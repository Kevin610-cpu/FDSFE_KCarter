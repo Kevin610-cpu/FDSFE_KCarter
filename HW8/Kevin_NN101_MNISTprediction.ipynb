{
  "nbformat": 4,
  "nbformat_minor": 0,
  "metadata": {
    "colab": {
      "provenance": [],
      "gpuType": "T4",
      "include_colab_link": true
    },
    "kernelspec": {
      "name": "python3",
      "display_name": "Python 3"
    },
    "language_info": {
      "name": "python"
    },
    "accelerator": "GPU"
  },
  "cells": [
    {
      "cell_type": "markdown",
      "metadata": {
        "id": "view-in-github",
        "colab_type": "text"
      },
      "source": [
        "<a href=\"https://colab.research.google.com/github/Kevin610-cpu/FDSFE_KCarter/blob/main/HW8/Kevin_NN101_MNISTprediction.ipynb\" target=\"_parent\"><img src=\"https://colab.research.google.com/assets/colab-badge.svg\" alt=\"Open In Colab\"/></a>"
      ]
    },
    {
      "cell_type": "markdown",
      "source": [
        "The goal of this homework is to create three neural network to solve the same problem and compare the performance of each. The problem is the classic prediction of hand written digits. We use the MNIST benchmark dataset which contains 60,000 images of handwritten digits and the corresponding labels"
      ],
      "metadata": {
        "id": "jrZz8vX-m7iG"
      }
    },
    {
      "cell_type": "code",
      "execution_count": 2,
      "metadata": {
        "id": "gfUuRbTECORT"
      },
      "outputs": [],
      "source": [
        "import tensorflow as tf\n",
        "import matplotlib.pyplot as plt\n",
        "import numpy as np\n"
      ]
    },
    {
      "cell_type": "code",
      "source": [
        "#download the data\n",
        "mnist = tf.keras.datasets.mnist\n",
        "(x_train, y_train), (x_test, y_test) = mnist.load_data()"
      ],
      "metadata": {
        "colab": {
          "base_uri": "https://localhost:8080/"
        },
        "id": "CI-jucDYC03Z",
        "outputId": "b5ace47c-dbca-41d4-99bb-59003a4140d4"
      },
      "execution_count": 3,
      "outputs": [
        {
          "output_type": "stream",
          "name": "stdout",
          "text": [
            "Downloading data from https://storage.googleapis.com/tensorflow/tf-keras-datasets/mnist.npz\n",
            "\u001b[1m11490434/11490434\u001b[0m \u001b[32m━━━━━━━━━━━━━━━━━━━━\u001b[0m\u001b[37m\u001b[0m \u001b[1m0s\u001b[0m 0us/step\n"
          ]
        }
      ]
    },
    {
      "cell_type": "code",
      "source": [
        "# how many labels are available?\n",
        "y_train.shape"
      ],
      "metadata": {
        "colab": {
          "base_uri": "https://localhost:8080/"
        },
        "id": "iuD_VG7EDcrW",
        "outputId": "068561c8-75df-484b-a606-1679dfa6b1de"
      },
      "execution_count": 4,
      "outputs": [
        {
          "output_type": "execute_result",
          "data": {
            "text/plain": [
              "(60000,)"
            ]
          },
          "metadata": {},
          "execution_count": 4
        }
      ]
    },
    {
      "cell_type": "code",
      "source": [
        "#what is the shape of the postage stamps that constitute the dataset?\n",
        "x_train.shape"
      ],
      "metadata": {
        "colab": {
          "base_uri": "https://localhost:8080/"
        },
        "id": "aFbX8xlEDzHh",
        "outputId": "caa702e9-4e7b-46ad-b5a5-357c4df3f8cd"
      },
      "execution_count": 5,
      "outputs": [
        {
          "output_type": "execute_result",
          "data": {
            "text/plain": [
              "(60000, 28, 28)"
            ]
          },
          "metadata": {},
          "execution_count": 5
        }
      ]
    },
    {
      "cell_type": "code",
      "source": [
        "# show the first input data object\n",
        "\n",
        "plt.imshow(x_train[0], cmap='gray')"
      ],
      "metadata": {
        "colab": {
          "base_uri": "https://localhost:8080/",
          "height": 448
        },
        "id": "wlAJPOVzD3Kn",
        "outputId": "01982cd3-6ba6-43b4-9de0-133681eae21c"
      },
      "execution_count": 6,
      "outputs": [
        {
          "output_type": "execute_result",
          "data": {
            "text/plain": [
              "<matplotlib.image.AxesImage at 0x7c596d20aa70>"
            ]
          },
          "metadata": {},
          "execution_count": 6
        },
        {
          "output_type": "display_data",
          "data": {
            "text/plain": [
              "<Figure size 640x480 with 1 Axes>"
            ],
            "image/png": "[encoded data removed]"
          },
          "metadata": {}
        }
      ]
    },
    {
      "cell_type": "code",
      "source": [
        "# check how many possible values are in the target variable\n",
        "np.unique(y_train, return_counts=True)"
      ],
      "metadata": {
        "id": "EEBSFCPuEAyQ",
        "colab": {
          "base_uri": "https://localhost:8080/"
        },
        "outputId": "7b44e5f5-e141-4eb6-d6fa-6f1dfc87066f"
      },
      "execution_count": 7,
      "outputs": [
        {
          "output_type": "execute_result",
          "data": {
            "text/plain": [
              "(array([0, 1, 2, 3, 4, 5, 6, 7, 8, 9], dtype=uint8),\n",
              " array([5923, 6742, 5958, 6131, 5842, 5421, 5918, 6265, 5851, 5949]))"
            ]
          },
          "metadata": {},
          "execution_count": 7
        }
      ]
    },
    {
      "cell_type": "code",
      "source": [
        "# check what is the minimum and maximum value and data type of the features dataset\n",
        "x_train.min(), x_train.max(), x_train.dtype"
      ],
      "metadata": {
        "id": "4tjUUsqOELhP",
        "colab": {
          "base_uri": "https://localhost:8080/"
        },
        "outputId": "a8934265-0b20-4795-975c-9fd6e355c3b8"
      },
      "execution_count": 9,
      "outputs": [
        {
          "output_type": "execute_result",
          "data": {
            "text/plain": [
              "(0, 255, dtype('uint8'))"
            ]
          },
          "metadata": {},
          "execution_count": 9
        }
      ]
    },
    {
      "cell_type": "code",
      "source": [
        "# scale the imput data so that it is min=0 and max=1 (min-max scaling) and that the values are floating point objects\n",
        "x_train = x_train/255.\n",
        "x_test = x_test/255.\n"
      ],
      "metadata": {
        "id": "O9c7pvCiEPBT"
      },
      "execution_count": 10,
      "outputs": []
    },
    {
      "cell_type": "code",
      "source": [
        "# the shape should have not changed\n",
        "x_train.shape"
      ],
      "metadata": {
        "colab": {
          "base_uri": "https://localhost:8080/"
        },
        "id": "ojr_ateAElqV",
        "outputId": "54626f4e-6f91-438b-a50b-cb73135f3a81"
      },
      "execution_count": 11,
      "outputs": [
        {
          "output_type": "execute_result",
          "data": {
            "text/plain": [
              "(60000, 28, 28)"
            ]
          },
          "metadata": {},
          "execution_count": 11
        }
      ]
    },
    {
      "cell_type": "code",
      "source": [
        "#the number of pixels in the data is\n",
        "28*28"
      ],
      "metadata": {
        "colab": {
          "base_uri": "https://localhost:8080/"
        },
        "id": "-P9gsr1rGNvq",
        "outputId": "66ffc2ad-cbeb-44c9-f34c-1d3491908b63"
      },
      "execution_count": 12,
      "outputs": [
        {
          "output_type": "execute_result",
          "data": {
            "text/plain": [
              "784"
            ]
          },
          "metadata": {},
          "execution_count": 12
        }
      ]
    },
    {
      "cell_type": "markdown",
      "source": [
        "# Build the first Artificial Neural Network\n",
        "solve the problem as a regression - see slides for the appropriate choices\n",
        "\n",
        "- use dense layers\n",
        "- choose the right number of neurons in output to solve a _regression_ problem\n",
        "- choose the right activation function on the last layer for a _regression_ problem\n",
        "- chose the right loss function for a _regression_ problem\n"
      ],
      "metadata": {
        "id": "RIQNmcwcn1li"
      }
    },
    {
      "cell_type": "code",
      "source": [
        "# architecture hyperparametrs\n",
        "model = tf.keras.models.Sequential()\n",
        "model.add(tf.keras.layers.Flatten(input_shape=(28,28)))\n",
        "# add 1 dense layer with 128 neurons and relu activation function\n",
        "# add 1 dropout layers dropping 20% of the connections\n",
        "# add 1 dense layer with 10 neurons\n",
        "# add the output  layer with 1\n",
        "# your code goes here\n",
        "model.add(tf.keras.layers.Flatten(input_shape=(28,28)))\n",
        "model.add(tf.keras.layers.Dense(128, activation='relu'))\n",
        "model.add(tf.keras.layers.Dropout(0.2))\n",
        "model.add(tf.keras.layers.Dense(10))\n",
        "model.add(tf.keras.layers.Dense(1))\n",
        "model.summary()\n"
      ],
      "metadata": {
        "colab": {
          "base_uri": "https://localhost:8080/",
          "height": 386
        },
        "id": "k0ais0jQEzz4",
        "outputId": "2779e939-66ad-439d-e17b-e531765011db"
      },
      "execution_count": 13,
      "outputs": [
        {
          "output_type": "stream",
          "name": "stderr",
          "text": [
            "/usr/local/lib/python3.10/dist-packages/keras/src/layers/reshaping/flatten.py:37: UserWarning: Do not pass an `input_shape`/`input_dim` argument to a layer. When using Sequential models, prefer using an `Input(shape)` object as the first layer in the model instead.\n",
            "  super().__init__(**kwargs)\n"
          ]
        },
        {
          "output_type": "display_data",
          "data": {
            "text/plain": [
              "\u001b[1mModel: \"sequential\"\u001b[0m\n"
            ],
            "text/html": [
              "<pre style=\"white-space:pre;overflow-x:auto;line-height:normal;font-family:Menlo,'DejaVu Sans Mono',consolas,'Courier New',monospace\"><span style=\"font-weight: bold\">Model: \"sequential\"</span>\n",
              "</pre>\n"
            ]
          },
          "metadata": {}
        },
        {
          "output_type": "display_data",
          "data": {
            "text/plain": [
              "┏━━━━━━━━━━━━━━━━━━━━━━━━━━━━━━━━━━━━━━┳━━━━━━━━━━━━━━━━━━━━━━━━━━━━━┳━━━━━━━━━━━━━━━━━┓\n",
              "┃\u001b[1m \u001b[0m\u001b[1mLayer (type)                        \u001b[0m\u001b[1m \u001b[0m┃\u001b[1m \u001b[0m\u001b[1mOutput Shape               \u001b[0m\u001b[1m \u001b[0m┃\u001b[1m \u001b[0m\u001b[1m        Param #\u001b[0m\u001b[1m \u001b[0m┃\n",
              "┡━━━━━━━━━━━━━━━━━━━━━━━━━━━━━━━━━━━━━━╇━━━━━━━━━━━━━━━━━━━━━━━━━━━━━╇━━━━━━━━━━━━━━━━━┩\n",
              "│ flatten (\u001b[38;5;33mFlatten\u001b[0m)                    │ (\u001b[38;5;45mNone\u001b[0m, \u001b[38;5;34m784\u001b[0m)                 │               \u001b[38;5;34m0\u001b[0m │\n",
              "├──────────────────────────────────────┼─────────────────────────────┼─────────────────┤\n",
              "│ flatten_1 (\u001b[38;5;33mFlatten\u001b[0m)                  │ (\u001b[38;5;45mNone\u001b[0m, \u001b[38;5;34m784\u001b[0m)                 │               \u001b[38;5;34m0\u001b[0m │\n",
              "├──────────────────────────────────────┼─────────────────────────────┼─────────────────┤\n",
              "│ dense (\u001b[38;5;33mDense\u001b[0m)                        │ (\u001b[38;5;45mNone\u001b[0m, \u001b[38;5;34m128\u001b[0m)                 │         \u001b[38;5;34m100,480\u001b[0m │\n",
              "├──────────────────────────────────────┼─────────────────────────────┼─────────────────┤\n",
              "│ dropout (\u001b[38;5;33mDropout\u001b[0m)                    │ (\u001b[38;5;45mNone\u001b[0m, \u001b[38;5;34m128\u001b[0m)                 │               \u001b[38;5;34m0\u001b[0m │\n",
              "├──────────────────────────────────────┼─────────────────────────────┼─────────────────┤\n",
              "│ dense_1 (\u001b[38;5;33mDense\u001b[0m)                      │ (\u001b[38;5;45mNone\u001b[0m, \u001b[38;5;34m10\u001b[0m)                  │           \u001b[38;5;34m1,290\u001b[0m │\n",
              "├──────────────────────────────────────┼─────────────────────────────┼─────────────────┤\n",
              "│ dense_2 (\u001b[38;5;33mDense\u001b[0m)                      │ (\u001b[38;5;45mNone\u001b[0m, \u001b[38;5;34m1\u001b[0m)                   │              \u001b[38;5;34m11\u001b[0m │\n",
              "└──────────────────────────────────────┴─────────────────────────────┴─────────────────┘\n"
            ],
            "text/html": [
              "<pre style=\"white-space:pre;overflow-x:auto;line-height:normal;font-family:Menlo,'DejaVu Sans Mono',consolas,'Courier New',monospace\">┏━━━━━━━━━━━━━━━━━━━━━━━━━━━━━━━━━━━━━━┳━━━━━━━━━━━━━━━━━━━━━━━━━━━━━┳━━━━━━━━━━━━━━━━━┓\n",
              "┃<span style=\"font-weight: bold\"> Layer (type)                         </span>┃<span style=\"font-weight: bold\"> Output Shape                </span>┃<span style=\"font-weight: bold\">         Param # </span>┃\n",
              "┡━━━━━━━━━━━━━━━━━━━━━━━━━━━━━━━━━━━━━━╇━━━━━━━━━━━━━━━━━━━━━━━━━━━━━╇━━━━━━━━━━━━━━━━━┩\n",
              "│ flatten (<span style=\"color: #0087ff; text-decoration-color: #0087ff\">Flatten</span>)                    │ (<span style=\"color: #00d7ff; text-decoration-color: #00d7ff\">None</span>, <span style=\"color: #00af00; text-decoration-color: #00af00\">784</span>)                 │               <span style=\"color: #00af00; text-decoration-color: #00af00\">0</span> │\n",
              "├──────────────────────────────────────┼─────────────────────────────┼─────────────────┤\n",
              "│ flatten_1 (<span style=\"color: #0087ff; text-decoration-color: #0087ff\">Flatten</span>)                  │ (<span style=\"color: #00d7ff; text-decoration-color: #00d7ff\">None</span>, <span style=\"color: #00af00; text-decoration-color: #00af00\">784</span>)                 │               <span style=\"color: #00af00; text-decoration-color: #00af00\">0</span> │\n",
              "├──────────────────────────────────────┼─────────────────────────────┼─────────────────┤\n",
              "│ dense (<span style=\"color: #0087ff; text-decoration-color: #0087ff\">Dense</span>)                        │ (<span style=\"color: #00d7ff; text-decoration-color: #00d7ff\">None</span>, <span style=\"color: #00af00; text-decoration-color: #00af00\">128</span>)                 │         <span style=\"color: #00af00; text-decoration-color: #00af00\">100,480</span> │\n",
              "├──────────────────────────────────────┼─────────────────────────────┼─────────────────┤\n",
              "│ dropout (<span style=\"color: #0087ff; text-decoration-color: #0087ff\">Dropout</span>)                    │ (<span style=\"color: #00d7ff; text-decoration-color: #00d7ff\">None</span>, <span style=\"color: #00af00; text-decoration-color: #00af00\">128</span>)                 │               <span style=\"color: #00af00; text-decoration-color: #00af00\">0</span> │\n",
              "├──────────────────────────────────────┼─────────────────────────────┼─────────────────┤\n",
              "│ dense_1 (<span style=\"color: #0087ff; text-decoration-color: #0087ff\">Dense</span>)                      │ (<span style=\"color: #00d7ff; text-decoration-color: #00d7ff\">None</span>, <span style=\"color: #00af00; text-decoration-color: #00af00\">10</span>)                  │           <span style=\"color: #00af00; text-decoration-color: #00af00\">1,290</span> │\n",
              "├──────────────────────────────────────┼─────────────────────────────┼─────────────────┤\n",
              "│ dense_2 (<span style=\"color: #0087ff; text-decoration-color: #0087ff\">Dense</span>)                      │ (<span style=\"color: #00d7ff; text-decoration-color: #00d7ff\">None</span>, <span style=\"color: #00af00; text-decoration-color: #00af00\">1</span>)                   │              <span style=\"color: #00af00; text-decoration-color: #00af00\">11</span> │\n",
              "└──────────────────────────────────────┴─────────────────────────────┴─────────────────┘\n",
              "</pre>\n"
            ]
          },
          "metadata": {}
        },
        {
          "output_type": "display_data",
          "data": {
            "text/plain": [
              "\u001b[1m Total params: \u001b[0m\u001b[38;5;34m101,781\u001b[0m (397.58 KB)\n"
            ],
            "text/html": [
              "<pre style=\"white-space:pre;overflow-x:auto;line-height:normal;font-family:Menlo,'DejaVu Sans Mono',consolas,'Courier New',monospace\"><span style=\"font-weight: bold\"> Total params: </span><span style=\"color: #00af00; text-decoration-color: #00af00\">101,781</span> (397.58 KB)\n",
              "</pre>\n"
            ]
          },
          "metadata": {}
        },
        {
          "output_type": "display_data",
          "data": {
            "text/plain": [
              "\u001b[1m Trainable params: \u001b[0m\u001b[38;5;34m101,781\u001b[0m (397.58 KB)\n"
            ],
            "text/html": [
              "<pre style=\"white-space:pre;overflow-x:auto;line-height:normal;font-family:Menlo,'DejaVu Sans Mono',consolas,'Courier New',monospace\"><span style=\"font-weight: bold\"> Trainable params: </span><span style=\"color: #00af00; text-decoration-color: #00af00\">101,781</span> (397.58 KB)\n",
              "</pre>\n"
            ]
          },
          "metadata": {}
        },
        {
          "output_type": "display_data",
          "data": {
            "text/plain": [
              "\u001b[1m Non-trainable params: \u001b[0m\u001b[38;5;34m0\u001b[0m (0.00 B)\n"
            ],
            "text/html": [
              "<pre style=\"white-space:pre;overflow-x:auto;line-height:normal;font-family:Menlo,'DejaVu Sans Mono',consolas,'Courier New',monospace\"><span style=\"font-weight: bold\"> Non-trainable params: </span><span style=\"color: #00af00; text-decoration-color: #00af00\">0</span> (0.00 B)\n",
              "</pre>\n"
            ]
          },
          "metadata": {}
        }
      ]
    },
    {
      "cell_type": "code",
      "source": [
        "tf.keras.utils.plot_model(model)"
      ],
      "metadata": {
        "colab": {
          "base_uri": "https://localhost:8080/",
          "height": 1000
        },
        "id": "TtClRvLcG4VV",
        "outputId": "b4d69c7e-da27-4c85-89ce-0bf57dbc88db"
      },
      "execution_count": 14,
      "outputs": [
        {
          "output_type": "execute_result",
          "data": {
            "image/png": "[encoded data removed]",
            "text/plain": [
              "<IPython.core.display.Image object>"
            ]
          },
          "metadata": {},
          "execution_count": 14
        }
      ]
    },
    {
      "cell_type": "code",
      "source": [
        "# training hyperparameter\n",
        "# choose the MeanSquaredError and Adam as the optimizer\n",
        "\n",
        "loss_fn = tf.keras.losses.MeanSquaredError()\n",
        "optimizer = tf.keras.optimizers.Adam()"
      ],
      "metadata": {
        "id": "gjLqvxoJFTwH"
      },
      "execution_count": 15,
      "outputs": []
    },
    {
      "cell_type": "code",
      "source": [
        "#train the model (did you make sure you are using GPUs??)\n",
        "model.compile(optimizer = optimizer, loss = loss_fn,\n",
        "              metrics=['accuracy'])\n",
        "training_history = model.fit(x_train, y_train, epochs=500, validation_split=0.1)"
      ],
      "metadata": {
        "id": "cp73OULPH8aB",
        "colab": {
          "base_uri": "https://localhost:8080/"
        },
        "outputId": "9c0fe251-9782-496f-e5a3-12c02cc8e8ef"
      },
      "execution_count": null,
      "outputs": [
        {
          "output_type": "stream",
          "name": "stdout",
          "text": [
            "\u001b[1m1688/1688\u001b[0m \u001b[32m━━━━━━━━━━━━━━━━━━━━\u001b[0m\u001b[37m\u001b[0m \u001b[1m6s\u001b[0m 3ms/step - accuracy: 0.1689 - loss: 0.4277 - val_accuracy: 0.1733 - val_loss: 0.7047\n",
            "Epoch 2/500\n",
            "\u001b[1m1688/1688\u001b[0m \u001b[32m━━━━━━━━━━━━━━━━━━━━\u001b[0m\u001b[37m\u001b[0m \u001b[1m4s\u001b[0m 2ms/step - accuracy: 0.1694 - loss: 0.4305 - val_accuracy: 0.1662 - val_loss: 0.6918\n",
            "Epoch 3/500\n",
            "\u001b[1m1688/1688\u001b[0m \u001b[32m━━━━━━━━━━━━━━━━━━━━\u001b[0m\u001b[37m\u001b[0m \u001b[1m5s\u001b[0m 2ms/step - accuracy: 0.1696 - loss: 0.4351 - val_accuracy: 0.1833 - val_loss: 0.6749\n",
            "Epoch 4/500\n",
            "\u001b[1m1688/1688\u001b[0m \u001b[32m━━━━━━━━━━━━━━━━━━━━\u001b[0m\u001b[37m\u001b[0m \u001b[1m6s\u001b[0m 2ms/step - accuracy: 0.1688 - loss: 0.4366 - val_accuracy: 0.1778 - val_loss: 0.6747\n",
            "Epoch 5/500\n",
            "\u001b[1m1688/1688\u001b[0m \u001b[32m━━━━━━━━━━━━━━━━━━━━\u001b[0m\u001b[37m\u001b[0m \u001b[1m3s\u001b[0m 2ms/step - accuracy: 0.1709 - loss: 0.4232 - val_accuracy: 0.1732 - val_loss: 0.6976\n",
            "Epoch 6/500\n",
            "\u001b[1m1688/1688\u001b[0m \u001b[32m━━━━━━━━━━━━━━━━━━━━\u001b[0m\u001b[37m\u001b[0m \u001b[1m3s\u001b[0m 2ms/step - accuracy: 0.1701 - loss: 0.4417 - val_accuracy: 0.1763 - val_loss: 0.6673\n",
            "Epoch 7/500\n",
            "\u001b[1m1688/1688\u001b[0m \u001b[32m━━━━━━━━━━━━━━━━━━━━\u001b[0m\u001b[37m\u001b[0m \u001b[1m6s\u001b[0m 2ms/step - accuracy: 0.1687 - loss: 0.4350 - val_accuracy: 0.1663 - val_loss: 0.6930\n",
            "Epoch 8/500\n",
            "\u001b[1m1688/1688\u001b[0m \u001b[32m━━━━━━━━━━━━━━━━━━━━\u001b[0m\u001b[37m\u001b[0m \u001b[1m3s\u001b[0m 2ms/step - accuracy: 0.1697 - loss: 0.4341 - val_accuracy: 0.1752 - val_loss: 0.6787\n",
            "Epoch 9/500\n",
            "\u001b[1m1688/1688\u001b[0m \u001b[32m━━━━━━━━━━━━━━━━━━━━\u001b[0m\u001b[37m\u001b[0m \u001b[1m5s\u001b[0m 2ms/step - accuracy: 0.1692 - loss: 0.4280 - val_accuracy: 0.1727 - val_loss: 0.6793\n",
            "Epoch 10/500\n",
            "\u001b[1m1688/1688\u001b[0m \u001b[32m━━━━━━━━━━━━━━━━━━━━\u001b[0m\u001b[37m\u001b[0m \u001b[1m3s\u001b[0m 2ms/step - accuracy: 0.1675 - loss: 0.4256 - val_accuracy: 0.1770 - val_loss: 0.6970\n",
            "Epoch 11/500\n",
            "\u001b[1m1688/1688\u001b[0m \u001b[32m━━━━━━━━━━━━━━━━━━━━\u001b[0m\u001b[37m\u001b[0m \u001b[1m5s\u001b[0m 2ms/step - accuracy: 0.1694 - loss: 0.4272 - val_accuracy: 0.1775 - val_loss: 0.6707\n",
            "Epoch 12/500\n",
            "\u001b[1m1688/1688\u001b[0m \u001b[32m━━━━━━━━━━━━━━━━━━━━\u001b[0m\u001b[37m\u001b[0m \u001b[1m6s\u001b[0m 2ms/step - accuracy: 0.1697 - loss: 0.4293 - val_accuracy: 0.1723 - val_loss: 0.6839\n",
            "Epoch 13/500\n",
            "\u001b[1m1688/1688\u001b[0m \u001b[32m━━━━━━━━━━━━━━━━━━━━\u001b[0m\u001b[37m\u001b[0m \u001b[1m4s\u001b[0m 2ms/step - accuracy: 0.1668 - loss: 0.4260 - val_accuracy: 0.1795 - val_loss: 0.6835\n",
            "Epoch 14/500\n",
            "\u001b[1m1688/1688\u001b[0m \u001b[32m━━━━━━━━━━━━━━━━━━━━\u001b[0m\u001b[37m\u001b[0m \u001b[1m4s\u001b[0m 2ms/step - accuracy: 0.1669 - loss: 0.4265 - val_accuracy: 0.1813 - val_loss: 0.6855\n",
            "Epoch 15/500\n",
            "\u001b[1m1688/1688\u001b[0m \u001b[32m━━━━━━━━━━━━━━━━━━━━\u001b[0m\u001b[37m\u001b[0m \u001b[1m3s\u001b[0m 2ms/step - accuracy: 0.1685 - loss: 0.4276 - val_accuracy: 0.1740 - val_loss: 0.6724\n",
            "Epoch 16/500\n",
            "\u001b[1m1688/1688\u001b[0m \u001b[32m━━━━━━━━━━━━━━━━━━━━\u001b[0m\u001b[37m\u001b[0m \u001b[1m6s\u001b[0m 2ms/step - accuracy: 0.1675 - loss: 0.4241 - val_accuracy: 0.1742 - val_loss: 0.6791\n",
            "Epoch 17/500\n",
            "\u001b[1m1688/1688\u001b[0m \u001b[32m━━━━━━━━━━━━━━━━━━━━\u001b[0m\u001b[37m\u001b[0m \u001b[1m3s\u001b[0m 2ms/step - accuracy: 0.1688 - loss: 0.4239 - val_accuracy: 0.1748 - val_loss: 0.6791\n",
            "Epoch 18/500\n",
            "\u001b[1m1688/1688\u001b[0m \u001b[32m━━━━━━━━━━━━━━━━━━━━\u001b[0m\u001b[37m\u001b[0m \u001b[1m5s\u001b[0m 2ms/step - accuracy: 0.1681 - loss: 0.4199 - val_accuracy: 0.1807 - val_loss: 0.6742\n",
            "Epoch 19/500\n",
            "\u001b[1m1688/1688\u001b[0m \u001b[32m━━━━━━━━━━━━━━━━━━━━\u001b[0m\u001b[37m\u001b[0m \u001b[1m6s\u001b[0m 2ms/step - accuracy: 0.1679 - loss: 0.4253 - val_accuracy: 0.1817 - val_loss: 0.6902\n",
            "Epoch 20/500\n",
            "\u001b[1m1688/1688\u001b[0m \u001b[32m━━━━━━━━━━━━━━━━━━━━\u001b[0m\u001b[37m\u001b[0m \u001b[1m3s\u001b[0m 2ms/step - accuracy: 0.1696 - loss: 0.4270 - val_accuracy: 0.1765 - val_loss: 0.6756\n",
            "Epoch 21/500\n",
            "\u001b[1m1688/1688\u001b[0m \u001b[32m━━━━━━━━━━━━━━━━━━━━\u001b[0m\u001b[37m\u001b[0m \u001b[1m3s\u001b[0m 2ms/step - accuracy: 0.1690 - loss: 0.4287 - val_accuracy: 0.1755 - val_loss: 0.6993\n",
            "Epoch 22/500\n",
            "\u001b[1m1688/1688\u001b[0m \u001b[32m━━━━━━━━━━━━━━━━━━━━\u001b[0m\u001b[37m\u001b[0m \u001b[1m6s\u001b[0m 3ms/step - accuracy: 0.1695 - loss: 0.4259 - val_accuracy: 0.1757 - val_loss: 0.6737\n",
            "Epoch 23/500\n",
            "\u001b[1m1688/1688\u001b[0m \u001b[32m━━━━━━━━━━━━━━━━━━━━\u001b[0m\u001b[37m\u001b[0m \u001b[1m3s\u001b[0m 2ms/step - accuracy: 0.1694 - loss: 0.4296 - val_accuracy: 0.1708 - val_loss: 0.6833\n",
            "Epoch 24/500\n",
            "\u001b[1m1688/1688\u001b[0m \u001b[32m━━━━━━━━━━━━━━━━━━━━\u001b[0m\u001b[37m\u001b[0m \u001b[1m5s\u001b[0m 2ms/step - accuracy: 0.1687 - loss: 0.4277 - val_accuracy: 0.1717 - val_loss: 0.6874\n",
            "Epoch 25/500\n",
            "\u001b[1m1688/1688\u001b[0m \u001b[32m━━━━━━━━━━━━━━━━━━━━\u001b[0m\u001b[37m\u001b[0m \u001b[1m6s\u001b[0m 2ms/step - accuracy: 0.1692 - loss: 0.4205 - val_accuracy: 0.1727 - val_loss: 0.6821\n",
            "Epoch 26/500\n",
            "\u001b[1m1688/1688\u001b[0m \u001b[32m━━━━━━━━━━━━━━━━━━━━\u001b[0m\u001b[37m\u001b[0m \u001b[1m3s\u001b[0m 2ms/step - accuracy: 0.1670 - loss: 0.4200 - val_accuracy: 0.1808 - val_loss: 0.6934\n",
            "Epoch 27/500\n",
            "\u001b[1m1688/1688\u001b[0m \u001b[32m━━━━━━━━━━━━━━━━━━━━\u001b[0m\u001b[37m\u001b[0m \u001b[1m6s\u001b[0m 3ms/step - accuracy: 0.1672 - loss: 0.4301 - val_accuracy: 0.1825 - val_loss: 0.6928\n",
            "Epoch 28/500\n",
            "\u001b[1m1688/1688\u001b[0m \u001b[32m━━━━━━━━━━━━━━━━━━━━\u001b[0m\u001b[37m\u001b[0m \u001b[1m4s\u001b[0m 2ms/step - accuracy: 0.1689 - loss: 0.4208 - val_accuracy: 0.1790 - val_loss: 0.6791\n",
            "Epoch 29/500\n",
            "\u001b[1m1688/1688\u001b[0m \u001b[32m━━━━━━━━━━━━━━━━━━━━\u001b[0m\u001b[37m\u001b[0m \u001b[1m3s\u001b[0m 2ms/step - accuracy: 0.1684 - loss: 0.4256 - val_accuracy: 0.1785 - val_loss: 0.6774\n",
            "Epoch 30/500\n",
            "\u001b[1m1688/1688\u001b[0m \u001b[32m━━━━━━━━━━━━━━━━━━━━\u001b[0m\u001b[37m\u001b[0m \u001b[1m4s\u001b[0m 2ms/step - accuracy: 0.1711 - loss: 0.4260 - val_accuracy: 0.1730 - val_loss: 0.6771\n",
            "Epoch 31/500\n",
            "\u001b[1m1688/1688\u001b[0m \u001b[32m━━━━━━━━━━━━━━━━━━━━\u001b[0m\u001b[37m\u001b[0m \u001b[1m4s\u001b[0m 2ms/step - accuracy: 0.1670 - loss: 0.4122 - val_accuracy: 0.1730 - val_loss: 0.6812\n",
            "Epoch 32/500\n",
            "\u001b[1m1688/1688\u001b[0m \u001b[32m━━━━━━━━━━━━━━━━━━━━\u001b[0m\u001b[37m\u001b[0m \u001b[1m3s\u001b[0m 2ms/step - accuracy: 0.1675 - loss: 0.4304 - val_accuracy: 0.1735 - val_loss: 0.6880\n",
            "Epoch 33/500\n",
            "\u001b[1m1688/1688\u001b[0m \u001b[32m━━━━━━━━━━━━━━━━━━━━\u001b[0m\u001b[37m\u001b[0m \u001b[1m3s\u001b[0m 2ms/step - accuracy: 0.1674 - loss: 0.4191 - val_accuracy: 0.1772 - val_loss: 0.6840\n",
            "Epoch 34/500\n",
            "\u001b[1m1688/1688\u001b[0m \u001b[32m━━━━━━━━━━━━━━━━━━━━\u001b[0m\u001b[37m\u001b[0m \u001b[1m4s\u001b[0m 2ms/step - accuracy: 0.1691 - loss: 0.4312 - val_accuracy: 0.1797 - val_loss: 0.6840\n",
            "Epoch 35/500\n",
            "\u001b[1m1688/1688\u001b[0m \u001b[32m━━━━━━━━━━━━━━━━━━━━\u001b[0m\u001b[37m\u001b[0m \u001b[1m5s\u001b[0m 2ms/step - accuracy: 0.1675 - loss: 0.4235 - val_accuracy: 0.1800 - val_loss: 0.6809\n",
            "Epoch 36/500\n",
            "\u001b[1m1688/1688\u001b[0m \u001b[32m━━━━━━━━━━━━━━━━━━━━\u001b[0m\u001b[37m\u001b[0m \u001b[1m4s\u001b[0m 2ms/step - accuracy: 0.1705 - loss: 0.4171 - val_accuracy: 0.1743 - val_loss: 0.6860\n",
            "Epoch 37/500\n",
            "\u001b[1m1688/1688\u001b[0m \u001b[32m━━━━━━━━━━━━━━━━━━━━\u001b[0m\u001b[37m\u001b[0m \u001b[1m4s\u001b[0m 2ms/step - accuracy: 0.1700 - loss: 0.4316 - val_accuracy: 0.1785 - val_loss: 0.6907\n",
            "Epoch 38/500\n",
            "\u001b[1m1688/1688\u001b[0m \u001b[32m━━━━━━━━━━━━━━━━━━━━\u001b[0m\u001b[37m\u001b[0m \u001b[1m3s\u001b[0m 2ms/step - accuracy: 0.1670 - loss: 0.4219 - val_accuracy: 0.1745 - val_loss: 0.6832\n",
            "Epoch 39/500\n",
            "\u001b[1m1688/1688\u001b[0m \u001b[32m━━━━━━━━━━━━━━━━━━━━\u001b[0m\u001b[37m\u001b[0m \u001b[1m3s\u001b[0m 2ms/step - accuracy: 0.1716 - loss: 0.4259 - val_accuracy: 0.1727 - val_loss: 0.7073\n",
            "Epoch 40/500\n",
            "\u001b[1m1688/1688\u001b[0m \u001b[32m━━━━━━━━━━━━━━━━━━━━\u001b[0m\u001b[37m\u001b[0m \u001b[1m3s\u001b[0m 2ms/step - accuracy: 0.1685 - loss: 0.4204 - val_accuracy: 0.1690 - val_loss: 0.6941\n",
            "Epoch 41/500\n",
            "\u001b[1m1688/1688\u001b[0m \u001b[32m━━━━━━━━━━━━━━━━━━━━\u001b[0m\u001b[37m\u001b[0m \u001b[1m4s\u001b[0m 2ms/step - accuracy: 0.1716 - loss: 0.4220 - val_accuracy: 0.1645 - val_loss: 0.6943\n",
            "Epoch 42/500\n",
            "\u001b[1m1688/1688\u001b[0m \u001b[32m━━━━━━━━━━━━━━━━━━━━\u001b[0m\u001b[37m\u001b[0m \u001b[1m3s\u001b[0m 2ms/step - accuracy: 0.1703 - loss: 0.4219 - val_accuracy: 0.1827 - val_loss: 0.6740\n",
            "Epoch 43/500\n",
            "\u001b[1m1688/1688\u001b[0m \u001b[32m━━━━━━━━━━━━━━━━━━━━\u001b[0m\u001b[37m\u001b[0m \u001b[1m3s\u001b[0m 2ms/step - accuracy: 0.1680 - loss: 0.4217 - val_accuracy: 0.1755 - val_loss: 0.6881\n",
            "Epoch 44/500\n",
            "\u001b[1m1688/1688\u001b[0m \u001b[32m━━━━━━━━━━━━━━━━━━━━\u001b[0m\u001b[37m\u001b[0m \u001b[1m4s\u001b[0m 2ms/step - accuracy: 0.1698 - loss: 0.4149 - val_accuracy: 0.1832 - val_loss: 0.6737\n",
            "Epoch 45/500\n",
            "\u001b[1m1688/1688\u001b[0m \u001b[32m━━━━━━━━━━━━━━━━━━━━\u001b[0m\u001b[37m\u001b[0m \u001b[1m3s\u001b[0m 2ms/step - accuracy: 0.1679 - loss: 0.4171 - val_accuracy: 0.1783 - val_loss: 0.6858\n",
            "Epoch 46/500\n",
            "\u001b[1m1688/1688\u001b[0m \u001b[32m━━━━━━━━━━━━━━━━━━━━\u001b[0m\u001b[37m\u001b[0m \u001b[1m3s\u001b[0m 2ms/step - accuracy: 0.1686 - loss: 0.4111 - val_accuracy: 0.1823 - val_loss: 0.6809\n",
            "Epoch 47/500\n",
            "\u001b[1m1688/1688\u001b[0m \u001b[32m━━━━━━━━━━━━━━━━━━━━\u001b[0m\u001b[37m\u001b[0m \u001b[1m4s\u001b[0m 2ms/step - accuracy: 0.1706 - loss: 0.4201 - val_accuracy: 0.1720 - val_loss: 0.6973\n",
            "Epoch 48/500\n",
            "\u001b[1m1688/1688\u001b[0m \u001b[32m━━━━━━━━━━━━━━━━━━━━\u001b[0m\u001b[37m\u001b[0m \u001b[1m4s\u001b[0m 2ms/step - accuracy: 0.1714 - loss: 0.4275 - val_accuracy: 0.1853 - val_loss: 0.6870\n",
            "Epoch 49/500\n",
            "\u001b[1m1688/1688\u001b[0m \u001b[32m━━━━━━━━━━━━━━━━━━━━\u001b[0m\u001b[37m\u001b[0m \u001b[1m4s\u001b[0m 2ms/step - accuracy: 0.1678 - loss: 0.4353 - val_accuracy: 0.1697 - val_loss: 0.6953\n",
            "Epoch 50/500\n",
            "\u001b[1m1688/1688\u001b[0m \u001b[32m━━━━━━━━━━━━━━━━━━━━\u001b[0m\u001b[37m\u001b[0m \u001b[1m5s\u001b[0m 2ms/step - accuracy: 0.1669 - loss: 0.4222 - val_accuracy: 0.1732 - val_loss: 0.6858\n",
            "Epoch 51/500\n",
            "\u001b[1m1688/1688\u001b[0m \u001b[32m━━━━━━━━━━━━━━━━━━━━\u001b[0m\u001b[37m\u001b[0m \u001b[1m5s\u001b[0m 2ms/step - accuracy: 0.1682 - loss: 0.4153 - val_accuracy: 0.1738 - val_loss: 0.6943\n",
            "Epoch 52/500\n",
            "\u001b[1m1688/1688\u001b[0m \u001b[32m━━━━━━━━━━━━━━━━━━━━\u001b[0m\u001b[37m\u001b[0m \u001b[1m3s\u001b[0m 2ms/step - accuracy: 0.1712 - loss: 0.4201 - val_accuracy: 0.1735 - val_loss: 0.6936\n",
            "Epoch 53/500\n",
            "\u001b[1m1688/1688\u001b[0m \u001b[32m━━━━━━━━━━━━━━━━━━━━\u001b[0m\u001b[37m\u001b[0m \u001b[1m6s\u001b[0m 2ms/step - accuracy: 0.1682 - loss: 0.4146 - val_accuracy: 0.1783 - val_loss: 0.6950\n",
            "Epoch 54/500\n",
            "\u001b[1m1688/1688\u001b[0m \u001b[32m━━━━━━━━━━━━━━━━━━━━\u001b[0m\u001b[37m\u001b[0m \u001b[1m4s\u001b[0m 2ms/step - accuracy: 0.1688 - loss: 0.4234 - val_accuracy: 0.1755 - val_loss: 0.6891\n",
            "Epoch 55/500\n",
            "\u001b[1m1688/1688\u001b[0m \u001b[32m━━━━━━━━━━━━━━━━━━━━\u001b[0m\u001b[37m\u001b[0m \u001b[1m3s\u001b[0m 2ms/step - accuracy: 0.1700 - loss: 0.4181 - val_accuracy: 0.1755 - val_loss: 0.6869\n",
            "Epoch 56/500\n",
            "\u001b[1m1688/1688\u001b[0m \u001b[32m━━━━━━━━━━━━━━━━━━━━\u001b[0m\u001b[37m\u001b[0m \u001b[1m6s\u001b[0m 2ms/step - accuracy: 0.1704 - loss: 0.4193 - val_accuracy: 0.1782 - val_loss: 0.6896\n",
            "Epoch 57/500\n",
            "\u001b[1m1688/1688\u001b[0m \u001b[32m━━━━━━━━━━━━━━━━━━━━\u001b[0m\u001b[37m\u001b[0m \u001b[1m4s\u001b[0m 2ms/step - accuracy: 0.1701 - loss: 0.4178 - val_accuracy: 0.1782 - val_loss: 0.6824\n",
            "Epoch 58/500\n",
            "\u001b[1m1688/1688\u001b[0m \u001b[32m━━━━━━━━━━━━━━━━━━━━\u001b[0m\u001b[37m\u001b[0m \u001b[1m5s\u001b[0m 2ms/step - accuracy: 0.1672 - loss: 0.4121 - val_accuracy: 0.1782 - val_loss: 0.6830\n",
            "Epoch 59/500\n",
            "\u001b[1m1688/1688\u001b[0m \u001b[32m━━━━━━━━━━━━━━━━━━━━\u001b[0m\u001b[37m\u001b[0m \u001b[1m5s\u001b[0m 2ms/step - accuracy: 0.1679 - loss: 0.4123 - val_accuracy: 0.1768 - val_loss: 0.6911\n",
            "Epoch 60/500\n",
            "\u001b[1m1688/1688\u001b[0m \u001b[32m━━━━━━━━━━━━━━━━━━━━\u001b[0m\u001b[37m\u001b[0m \u001b[1m3s\u001b[0m 2ms/step - accuracy: 0.1695 - loss: 0.4183 - val_accuracy: 0.1812 - val_loss: 0.6921\n",
            "Epoch 61/500\n",
            "\u001b[1m1688/1688\u001b[0m \u001b[32m━━━━━━━━━━━━━━━━━━━━\u001b[0m\u001b[37m\u001b[0m \u001b[1m6s\u001b[0m 2ms/step - accuracy: 0.1720 - loss: 0.4171 - val_accuracy: 0.1755 - val_loss: 0.6875\n",
            "Epoch 62/500\n",
            "\u001b[1m1688/1688\u001b[0m \u001b[32m━━━━━━━━━━━━━━━━━━━━\u001b[0m\u001b[37m\u001b[0m \u001b[1m4s\u001b[0m 2ms/step - accuracy: 0.1706 - loss: 0.4151 - val_accuracy: 0.1707 - val_loss: 0.6843\n",
            "Epoch 63/500\n",
            "\u001b[1m1688/1688\u001b[0m \u001b[32m━━━━━━━━━━━━━━━━━━━━\u001b[0m\u001b[37m\u001b[0m \u001b[1m5s\u001b[0m 2ms/step - accuracy: 0.1683 - loss: 0.4079 - val_accuracy: 0.1795 - val_loss: 0.6856\n",
            "Epoch 64/500\n",
            "\u001b[1m1688/1688\u001b[0m \u001b[32m━━━━━━━━━━━━━━━━━━━━\u001b[0m\u001b[37m\u001b[0m \u001b[1m5s\u001b[0m 2ms/step - accuracy: 0.1682 - loss: 0.4138 - val_accuracy: 0.1760 - val_loss: 0.6945\n",
            "Epoch 65/500\n",
            "\u001b[1m1688/1688\u001b[0m \u001b[32m━━━━━━━━━━━━━━━━━━━━\u001b[0m\u001b[37m\u001b[0m \u001b[1m5s\u001b[0m 2ms/step - accuracy: 0.1718 - loss: 0.4131 - val_accuracy: 0.1798 - val_loss: 0.6867\n",
            "Epoch 66/500\n",
            "\u001b[1m1688/1688\u001b[0m \u001b[32m━━━━━━━━━━━━━━━━━━━━\u001b[0m\u001b[37m\u001b[0m \u001b[1m6s\u001b[0m 2ms/step - accuracy: 0.1659 - loss: 0.4180 - val_accuracy: 0.1640 - val_loss: 0.6973\n",
            "Epoch 67/500\n",
            "\u001b[1m1688/1688\u001b[0m \u001b[32m━━━━━━━━━━━━━━━━━━━━\u001b[0m\u001b[37m\u001b[0m \u001b[1m4s\u001b[0m 2ms/step - accuracy: 0.1703 - loss: 0.4181 - val_accuracy: 0.1767 - val_loss: 0.6921\n",
            "Epoch 68/500\n",
            "\u001b[1m1688/1688\u001b[0m \u001b[32m━━━━━━━━━━━━━━━━━━━━\u001b[0m\u001b[37m\u001b[0m \u001b[1m5s\u001b[0m 2ms/step - accuracy: 0.1702 - loss: 0.4077 - val_accuracy: 0.1808 - val_loss: 0.6871\n",
            "Epoch 69/500\n",
            "\u001b[1m1688/1688\u001b[0m \u001b[32m━━━━━━━━━━━━━━━━━━━━\u001b[0m\u001b[37m\u001b[0m \u001b[1m5s\u001b[0m 2ms/step - accuracy: 0.1710 - loss: 0.4116 - val_accuracy: 0.1790 - val_loss: 0.6900\n",
            "Epoch 70/500\n",
            "\u001b[1m1688/1688\u001b[0m \u001b[32m━━━━━━━━━━━━━━━━━━━━\u001b[0m\u001b[37m\u001b[0m \u001b[1m5s\u001b[0m 2ms/step - accuracy: 0.1678 - loss: 0.4074 - val_accuracy: 0.1725 - val_loss: 0.6883\n",
            "Epoch 71/500\n",
            "\u001b[1m1688/1688\u001b[0m \u001b[32m━━━━━━━━━━━━━━━━━━━━\u001b[0m\u001b[37m\u001b[0m \u001b[1m4s\u001b[0m 2ms/step - accuracy: 0.1698 - loss: 0.4191 - val_accuracy: 0.1767 - val_loss: 0.6918\n",
            "Epoch 72/500\n",
            "\u001b[1m1688/1688\u001b[0m \u001b[32m━━━━━━━━━━━━━━━━━━━━\u001b[0m\u001b[37m\u001b[0m \u001b[1m5s\u001b[0m 2ms/step - accuracy: 0.1695 - loss: 0.4162 - val_accuracy: 0.1663 - val_loss: 0.6952\n",
            "Epoch 73/500\n",
            "\u001b[1m1688/1688\u001b[0m \u001b[32m━━━━━━━━━━━━━━━━━━━━\u001b[0m\u001b[37m\u001b[0m \u001b[1m3s\u001b[0m 2ms/step - accuracy: 0.1678 - loss: 0.4141 - val_accuracy: 0.1812 - val_loss: 0.6794\n",
            "Epoch 74/500\n",
            "\u001b[1m1688/1688\u001b[0m \u001b[32m━━━━━━━━━━━━━━━━━━━━\u001b[0m\u001b[37m\u001b[0m \u001b[1m3s\u001b[0m 2ms/step - accuracy: 0.1698 - loss: 0.4057 - val_accuracy: 0.1705 - val_loss: 0.7034\n",
            "Epoch 75/500\n",
            "\u001b[1m1688/1688\u001b[0m \u001b[32m━━━━━━━━━━━━━━━━━━━━\u001b[0m\u001b[37m\u001b[0m \u001b[1m4s\u001b[0m 2ms/step - accuracy: 0.1682 - loss: 0.4189 - val_accuracy: 0.1598 - val_loss: 0.7080\n",
            "Epoch 76/500\n",
            "\u001b[1m1688/1688\u001b[0m \u001b[32m━━━━━━━━━━━━━━━━━━━━\u001b[0m\u001b[37m\u001b[0m \u001b[1m3s\u001b[0m 2ms/step - accuracy: 0.1697 - loss: 0.4139 - val_accuracy: 0.1672 - val_loss: 0.6909\n",
            "Epoch 77/500\n",
            "\u001b[1m1688/1688\u001b[0m \u001b[32m━━━━━━━━━━━━━━━━━━━━\u001b[0m\u001b[37m\u001b[0m \u001b[1m3s\u001b[0m 2ms/step - accuracy: 0.1692 - loss: 0.4001 - val_accuracy: 0.1823 - val_loss: 0.6876\n",
            "Epoch 78/500\n",
            "\u001b[1m1688/1688\u001b[0m \u001b[32m━━━━━━━━━━━━━━━━━━━━\u001b[0m\u001b[37m\u001b[0m \u001b[1m6s\u001b[0m 2ms/step - accuracy: 0.1708 - loss: 0.4143 - val_accuracy: 0.1792 - val_loss: 0.6750\n",
            "Epoch 79/500\n",
            "\u001b[1m1688/1688\u001b[0m \u001b[32m━━━━━━━━━━━━━━━━━━━━\u001b[0m\u001b[37m\u001b[0m \u001b[1m3s\u001b[0m 2ms/step - accuracy: 0.1710 - loss: 0.4058 - val_accuracy: 0.1800 - val_loss: 0.6781\n",
            "Epoch 80/500\n",
            "\u001b[1m1688/1688\u001b[0m \u001b[32m━━━━━━━━━━━━━━━━━━━━\u001b[0m\u001b[37m\u001b[0m \u001b[1m3s\u001b[0m 2ms/step - accuracy: 0.1703 - loss: 0.4207 - val_accuracy: 0.1800 - val_loss: 0.6806\n",
            "Epoch 81/500\n",
            "\u001b[1m1688/1688\u001b[0m \u001b[32m━━━━━━━━━━━━━━━━━━━━\u001b[0m\u001b[37m\u001b[0m \u001b[1m6s\u001b[0m 2ms/step - accuracy: 0.1694 - loss: 0.4094 - val_accuracy: 0.1780 - val_loss: 0.6998\n",
            "Epoch 82/500\n",
            "\u001b[1m1688/1688\u001b[0m \u001b[32m━━━━━━━━━━━━━━━━━━━━\u001b[0m\u001b[37m\u001b[0m \u001b[1m4s\u001b[0m 2ms/step - accuracy: 0.1700 - loss: 0.4160 - val_accuracy: 0.1810 - val_loss: 0.6894\n",
            "Epoch 83/500\n",
            "\u001b[1m1688/1688\u001b[0m \u001b[32m━━━━━━━━━━━━━━━━━━━━\u001b[0m\u001b[37m\u001b[0m \u001b[1m5s\u001b[0m 2ms/step - accuracy: 0.1701 - loss: 0.4156 - val_accuracy: 0.1782 - val_loss: 0.6844\n",
            "Epoch 84/500\n",
            "\u001b[1m1688/1688\u001b[0m \u001b[32m━━━━━━━━━━━━━━━━━━━━\u001b[0m\u001b[37m\u001b[0m \u001b[1m5s\u001b[0m 2ms/step - accuracy: 0.1681 - loss: 0.4230 - val_accuracy: 0.1765 - val_loss: 0.6971\n",
            "Epoch 85/500\n",
            "\u001b[1m1688/1688\u001b[0m \u001b[32m━━━━━━━━━━━━━━━━━━━━\u001b[0m\u001b[37m\u001b[0m \u001b[1m5s\u001b[0m 2ms/step - accuracy: 0.1691 - loss: 0.4136 - val_accuracy: 0.1690 - val_loss: 0.6997\n",
            "Epoch 86/500\n",
            "\u001b[1m1688/1688\u001b[0m \u001b[32m━━━━━━━━━━━━━━━━━━━━\u001b[0m\u001b[37m\u001b[0m \u001b[1m4s\u001b[0m 2ms/step - accuracy: 0.1690 - loss: 0.4130 - val_accuracy: 0.1757 - val_loss: 0.6938\n",
            "Epoch 87/500\n",
            "\u001b[1m1688/1688\u001b[0m \u001b[32m━━━━━━━━━━━━━━━━━━━━\u001b[0m\u001b[37m\u001b[0m \u001b[1m3s\u001b[0m 2ms/step - accuracy: 0.1686 - loss: 0.4100 - val_accuracy: 0.1828 - val_loss: 0.6869\n",
            "Epoch 88/500\n",
            "\u001b[1m1688/1688\u001b[0m \u001b[32m━━━━━━━━━━━━━━━━━━━━\u001b[0m\u001b[37m\u001b[0m \u001b[1m5s\u001b[0m 2ms/step - accuracy: 0.1710 - loss: 0.4035 - val_accuracy: 0.1743 - val_loss: 0.6835\n",
            "Epoch 89/500\n",
            "\u001b[1m1688/1688\u001b[0m \u001b[32m━━━━━━━━━━━━━━━━━━━━\u001b[0m\u001b[37m\u001b[0m \u001b[1m4s\u001b[0m 2ms/step - accuracy: 0.1680 - loss: 0.4092 - val_accuracy: 0.1793 - val_loss: 0.6857\n",
            "Epoch 90/500\n",
            "\u001b[1m1688/1688\u001b[0m \u001b[32m━━━━━━━━━━━━━━━━━━━━\u001b[0m\u001b[37m\u001b[0m \u001b[1m5s\u001b[0m 2ms/step - accuracy: 0.1692 - loss: 0.4105 - val_accuracy: 0.1745 - val_loss: 0.6851\n",
            "Epoch 91/500\n",
            "\u001b[1m1688/1688\u001b[0m \u001b[32m━━━━━━━━━━━━━━━━━━━━\u001b[0m\u001b[37m\u001b[0m \u001b[1m5s\u001b[0m 2ms/step - accuracy: 0.1716 - loss: 0.4129 - val_accuracy: 0.1833 - val_loss: 0.7029\n",
            "Epoch 92/500\n",
            "\u001b[1m1688/1688\u001b[0m \u001b[32m━━━━━━━━━━━━━━━━━━━━\u001b[0m\u001b[37m\u001b[0m \u001b[1m4s\u001b[0m 2ms/step - accuracy: 0.1669 - loss: 0.4048 - val_accuracy: 0.1778 - val_loss: 0.6933\n",
            "Epoch 93/500\n",
            "\u001b[1m1688/1688\u001b[0m \u001b[32m━━━━━━━━━━━━━━━━━━━━\u001b[0m\u001b[37m\u001b[0m \u001b[1m3s\u001b[0m 2ms/step - accuracy: 0.1726 - loss: 0.4061 - val_accuracy: 0.1788 - val_loss: 0.7015\n",
            "Epoch 94/500\n",
            "\u001b[1m1688/1688\u001b[0m \u001b[32m━━━━━━━━━━━━━━━━━━━━\u001b[0m\u001b[37m\u001b[0m \u001b[1m3s\u001b[0m 2ms/step - accuracy: 0.1716 - loss: 0.4048 - val_accuracy: 0.1812 - val_loss: 0.7271\n",
            "Epoch 95/500\n",
            "\u001b[1m1688/1688\u001b[0m \u001b[32m━━━━━━━━━━━━━━━━━━━━\u001b[0m\u001b[37m\u001b[0m \u001b[1m6s\u001b[0m 2ms/step - accuracy: 0.1708 - loss: 0.4133 - val_accuracy: 0.1818 - val_loss: 0.6928\n",
            "Epoch 96/500\n",
            "\u001b[1m1688/1688\u001b[0m \u001b[32m━━━━━━━━━━━━━━━━━━━━\u001b[0m\u001b[37m\u001b[0m \u001b[1m3s\u001b[0m 2ms/step - accuracy: 0.1702 - loss: 0.4151 - val_accuracy: 0.1715 - val_loss: 0.6947\n",
            "Epoch 97/500\n",
            "\u001b[1m1688/1688\u001b[0m \u001b[32m━━━━━━━━━━━━━━━━━━━━\u001b[0m\u001b[37m\u001b[0m \u001b[1m3s\u001b[0m 2ms/step - accuracy: 0.1701 - loss: 0.4003 - val_accuracy: 0.1770 - val_loss: 0.6921\n",
            "Epoch 98/500\n",
            "\u001b[1m1688/1688\u001b[0m \u001b[32m━━━━━━━━━━━━━━━━━━━━\u001b[0m\u001b[37m\u001b[0m \u001b[1m3s\u001b[0m 2ms/step - accuracy: 0.1720 - loss: 0.4063 - val_accuracy: 0.1695 - val_loss: 0.6952\n",
            "Epoch 99/500\n",
            "\u001b[1m1688/1688\u001b[0m \u001b[32m━━━━━━━━━━━━━━━━━━━━\u001b[0m\u001b[37m\u001b[0m \u001b[1m4s\u001b[0m 2ms/step - accuracy: 0.1668 - loss: 0.4188 - val_accuracy: 0.1772 - val_loss: 0.7022\n",
            "Epoch 100/500\n",
            "\u001b[1m1688/1688\u001b[0m \u001b[32m━━━━━━━━━━━━━━━━━━━━\u001b[0m\u001b[37m\u001b[0m \u001b[1m3s\u001b[0m 2ms/step - accuracy: 0.1702 - loss: 0.4111 - val_accuracy: 0.1735 - val_loss: 0.6969\n",
            "Epoch 101/500\n",
            "\u001b[1m1688/1688\u001b[0m \u001b[32m━━━━━━━━━━━━━━━━━━━━\u001b[0m\u001b[37m\u001b[0m \u001b[1m3s\u001b[0m 2ms/step - accuracy: 0.1695 - loss: 0.4082 - val_accuracy: 0.1808 - val_loss: 0.6855\n",
            "Epoch 102/500\n",
            "\u001b[1m1688/1688\u001b[0m \u001b[32m━━━━━━━━━━━━━━━━━━━━\u001b[0m\u001b[37m\u001b[0m \u001b[1m6s\u001b[0m 2ms/step - accuracy: 0.1701 - loss: 0.4088 - val_accuracy: 0.1803 - val_loss: 0.6904\n",
            "Epoch 103/500\n",
            "\u001b[1m1688/1688\u001b[0m \u001b[32m━━━━━━━━━━━━━━━━━━━━\u001b[0m\u001b[37m\u001b[0m \u001b[1m3s\u001b[0m 2ms/step - accuracy: 0.1697 - loss: 0.4110 - val_accuracy: 0.1838 - val_loss: 0.6976\n",
            "Epoch 104/500\n",
            "\u001b[1m1688/1688\u001b[0m \u001b[32m━━━━━━━━━━━━━━━━━━━━\u001b[0m\u001b[37m\u001b[0m \u001b[1m3s\u001b[0m 2ms/step - accuracy: 0.1733 - loss: 0.4093 - val_accuracy: 0.1673 - val_loss: 0.6960\n",
            "Epoch 105/500\n",
            "\u001b[1m1688/1688\u001b[0m \u001b[32m━━━━━━━━━━━━━━━━━━━━\u001b[0m\u001b[37m\u001b[0m \u001b[1m5s\u001b[0m 2ms/step - accuracy: 0.1700 - loss: 0.4082 - val_accuracy: 0.1693 - val_loss: 0.6832\n",
            "Epoch 106/500\n",
            "\u001b[1m1688/1688\u001b[0m \u001b[32m━━━━━━━━━━━━━━━━━━━━\u001b[0m\u001b[37m\u001b[0m \u001b[1m4s\u001b[0m 2ms/step - accuracy: 0.1713 - loss: 0.4078 - val_accuracy: 0.1710 - val_loss: 0.7037\n",
            "Epoch 107/500\n",
            "\u001b[1m1688/1688\u001b[0m \u001b[32m━━━━━━━━━━━━━━━━━━━━\u001b[0m\u001b[37m\u001b[0m \u001b[1m5s\u001b[0m 2ms/step - accuracy: 0.1703 - loss: 0.4090 - val_accuracy: 0.1705 - val_loss: 0.6976\n",
            "Epoch 108/500\n",
            "\u001b[1m1688/1688\u001b[0m \u001b[32m━━━━━━━━━━━━━━━━━━━━\u001b[0m\u001b[37m\u001b[0m \u001b[1m3s\u001b[0m 2ms/step - accuracy: 0.1700 - loss: 0.4015 - val_accuracy: 0.1722 - val_loss: 0.6933\n",
            "Epoch 109/500\n",
            "\u001b[1m1688/1688\u001b[0m \u001b[32m━━━━━━━━━━━━━━━━━━━━\u001b[0m\u001b[37m\u001b[0m \u001b[1m5s\u001b[0m 2ms/step - accuracy: 0.1677 - loss: 0.4023 - val_accuracy: 0.1782 - val_loss: 0.6915\n",
            "Epoch 110/500\n",
            "\u001b[1m1688/1688\u001b[0m \u001b[32m━━━━━━━━━━━━━━━━━━━━\u001b[0m\u001b[37m\u001b[0m \u001b[1m4s\u001b[0m 2ms/step - accuracy: 0.1702 - loss: 0.4083 - val_accuracy: 0.1757 - val_loss: 0.6874\n",
            "Epoch 111/500\n",
            "\u001b[1m1688/1688\u001b[0m \u001b[32m━━━━━━━━━━━━━━━━━━━━\u001b[0m\u001b[37m\u001b[0m \u001b[1m5s\u001b[0m 3ms/step - accuracy: 0.1697 - loss: 0.4050 - val_accuracy: 0.1848 - val_loss: 0.6850\n",
            "Epoch 112/500\n",
            "\u001b[1m1688/1688\u001b[0m \u001b[32m━━━━━━━━━━━━━━━━━━━━\u001b[0m\u001b[37m\u001b[0m \u001b[1m3s\u001b[0m 2ms/step - accuracy: 0.1707 - loss: 0.4038 - val_accuracy: 0.1807 - val_loss: 0.6833\n",
            "Epoch 113/500\n",
            "\u001b[1m1688/1688\u001b[0m \u001b[32m━━━━━━━━━━━━━━━━━━━━\u001b[0m\u001b[37m\u001b[0m \u001b[1m5s\u001b[0m 2ms/step - accuracy: 0.1716 - loss: 0.4039 - val_accuracy: 0.1720 - val_loss: 0.6914\n",
            "Epoch 114/500\n",
            "\u001b[1m1688/1688\u001b[0m \u001b[32m━━━━━━━━━━━━━━━━━━━━\u001b[0m\u001b[37m\u001b[0m \u001b[1m6s\u001b[0m 3ms/step - accuracy: 0.1736 - loss: 0.3972 - val_accuracy: 0.1783 - val_loss: 0.6943\n",
            "Epoch 115/500\n",
            "\u001b[1m1688/1688\u001b[0m \u001b[32m━━━━━━━━━━━━━━━━━━━━\u001b[0m\u001b[37m\u001b[0m \u001b[1m4s\u001b[0m 2ms/step - accuracy: 0.1721 - loss: 0.4146 - val_accuracy: 0.1810 - val_loss: 0.7021\n",
            "Epoch 116/500\n",
            "\u001b[1m1688/1688\u001b[0m \u001b[32m━━━━━━━━━━━━━━━━━━━━\u001b[0m\u001b[37m\u001b[0m \u001b[1m5s\u001b[0m 2ms/step - accuracy: 0.1686 - loss: 0.4126 - val_accuracy: 0.1755 - val_loss: 0.6960\n",
            "Epoch 117/500\n",
            "\u001b[1m1688/1688\u001b[0m \u001b[32m━━━━━━━━━━━━━━━━━━━━\u001b[0m\u001b[37m\u001b[0m \u001b[1m4s\u001b[0m 2ms/step - accuracy: 0.1704 - loss: 0.4058 - val_accuracy: 0.1747 - val_loss: 0.6821\n",
            "Epoch 118/500\n",
            "\u001b[1m1688/1688\u001b[0m \u001b[32m━━━━━━━━━━━━━━━━━━━━\u001b[0m\u001b[37m\u001b[0m \u001b[1m4s\u001b[0m 2ms/step - accuracy: 0.1705 - loss: 0.4018 - val_accuracy: 0.1765 - val_loss: 0.6876\n",
            "Epoch 119/500\n",
            "\u001b[1m1688/1688\u001b[0m \u001b[32m━━━━━━━━━━━━━━━━━━━━\u001b[0m\u001b[37m\u001b[0m \u001b[1m3s\u001b[0m 2ms/step - accuracy: 0.1701 - loss: 0.4046 - val_accuracy: 0.1770 - val_loss: 0.6903\n",
            "Epoch 120/500\n",
            "\u001b[1m1688/1688\u001b[0m \u001b[32m━━━━━━━━━━━━━━━━━━━━\u001b[0m\u001b[37m\u001b[0m \u001b[1m3s\u001b[0m 2ms/step - accuracy: 0.1691 - loss: 0.4041 - val_accuracy: 0.1712 - val_loss: 0.7182\n",
            "Epoch 121/500\n",
            "\u001b[1m1688/1688\u001b[0m \u001b[32m━━━━━━━━━━━━━━━━━━━━\u001b[0m\u001b[37m\u001b[0m \u001b[1m4s\u001b[0m 2ms/step - accuracy: 0.1705 - loss: 0.4065 - val_accuracy: 0.1840 - val_loss: 0.6910\n",
            "Epoch 122/500\n",
            "\u001b[1m1688/1688\u001b[0m \u001b[32m━━━━━━━━━━━━━━━━━━━━\u001b[0m\u001b[37m\u001b[0m \u001b[1m3s\u001b[0m 2ms/step - accuracy: 0.1675 - loss: 0.4101 - val_accuracy: 0.1775 - val_loss: 0.6924\n",
            "Epoch 123/500\n",
            "\u001b[1m1688/1688\u001b[0m \u001b[32m━━━━━━━━━━━━━━━━━━━━\u001b[0m\u001b[37m\u001b[0m \u001b[1m3s\u001b[0m 2ms/step - accuracy: 0.1658 - loss: 0.4038 - val_accuracy: 0.1745 - val_loss: 0.7091\n",
            "Epoch 124/500\n",
            "\u001b[1m1688/1688\u001b[0m \u001b[32m━━━━━━━━━━━━━━━━━━━━\u001b[0m\u001b[37m\u001b[0m \u001b[1m4s\u001b[0m 2ms/step - accuracy: 0.1706 - loss: 0.4004 - val_accuracy: 0.1668 - val_loss: 0.6891\n",
            "Epoch 125/500\n",
            "\u001b[1m1688/1688\u001b[0m \u001b[32m━━━━━━━━━━━━━━━━━━━━\u001b[0m\u001b[37m\u001b[0m \u001b[1m5s\u001b[0m 2ms/step - accuracy: 0.1723 - loss: 0.4010 - val_accuracy: 0.1757 - val_loss: 0.6869\n",
            "Epoch 126/500\n",
            "\u001b[1m1688/1688\u001b[0m \u001b[32m━━━━━━━━━━━━━━━━━━━━\u001b[0m\u001b[37m\u001b[0m \u001b[1m3s\u001b[0m 2ms/step - accuracy: 0.1685 - loss: 0.4086 - val_accuracy: 0.1738 - val_loss: 0.6932\n",
            "Epoch 127/500\n",
            "\u001b[1m1688/1688\u001b[0m \u001b[32m━━━━━━━━━━━━━━━━━━━━\u001b[0m\u001b[37m\u001b[0m \u001b[1m8s\u001b[0m 3ms/step - accuracy: 0.1688 - loss: 0.3984 - val_accuracy: 0.1770 - val_loss: 0.6911\n",
            "Epoch 128/500\n",
            "\u001b[1m1688/1688\u001b[0m \u001b[32m━━━━━━━━━━━━━━━━━━━━\u001b[0m\u001b[37m\u001b[0m \u001b[1m3s\u001b[0m 2ms/step - accuracy: 0.1733 - loss: 0.3909 - val_accuracy: 0.1785 - val_loss: 0.6878\n",
            "Epoch 129/500\n",
            "\u001b[1m1688/1688\u001b[0m \u001b[32m━━━━━━━━━━━━━━━━━━━━\u001b[0m\u001b[37m\u001b[0m \u001b[1m5s\u001b[0m 2ms/step - accuracy: 0.1737 - loss: 0.4029 - val_accuracy: 0.1772 - val_loss: 0.6925\n",
            "Epoch 130/500\n",
            "\u001b[1m1688/1688\u001b[0m \u001b[32m━━━━━━━━━━━━━━━━━━━━\u001b[0m\u001b[37m\u001b[0m \u001b[1m6s\u001b[0m 2ms/step - accuracy: 0.1703 - loss: 0.4130 - val_accuracy: 0.1777 - val_loss: 0.6923\n",
            "Epoch 131/500\n",
            "\u001b[1m1688/1688\u001b[0m \u001b[32m━━━━━━━━━━━━━━━━━━━━\u001b[0m\u001b[37m\u001b[0m \u001b[1m5s\u001b[0m 2ms/step - accuracy: 0.1676 - loss: 0.4011 - val_accuracy: 0.1737 - val_loss: 0.7087\n",
            "Epoch 132/500\n",
            "\u001b[1m1688/1688\u001b[0m \u001b[32m━━━━━━━━━━━━━━━━━━━━\u001b[0m\u001b[37m\u001b[0m \u001b[1m6s\u001b[0m 2ms/step - accuracy: 0.1688 - loss: 0.4078 - val_accuracy: 0.1768 - val_loss: 0.6974\n",
            "Epoch 133/500\n",
            "\u001b[1m1688/1688\u001b[0m \u001b[32m━━━━━━━━━━━━━━━━━━━━\u001b[0m\u001b[37m\u001b[0m \u001b[1m3s\u001b[0m 2ms/step - accuracy: 0.1716 - loss: 0.4004 - val_accuracy: 0.1670 - val_loss: 0.7004\n",
            "Epoch 134/500\n",
            "\u001b[1m1688/1688\u001b[0m \u001b[32m━━━━━━━━━━━━━━━━━━━━\u001b[0m\u001b[37m\u001b[0m \u001b[1m3s\u001b[0m 2ms/step - accuracy: 0.1693 - loss: 0.4084 - val_accuracy: 0.1767 - val_loss: 0.7036\n",
            "Epoch 135/500\n",
            "\u001b[1m1688/1688\u001b[0m \u001b[32m━━━━━━━━━━━━━━━━━━━━\u001b[0m\u001b[37m\u001b[0m \u001b[1m4s\u001b[0m 2ms/step - accuracy: 0.1703 - loss: 0.3969 - val_accuracy: 0.1750 - val_loss: 0.6964\n",
            "Epoch 136/500\n",
            "\u001b[1m1688/1688\u001b[0m \u001b[32m━━━━━━━━━━━━━━━━━━━━\u001b[0m\u001b[37m\u001b[0m \u001b[1m4s\u001b[0m 2ms/step - accuracy: 0.1725 - loss: 0.3925 - val_accuracy: 0.1808 - val_loss: 0.6981\n",
            "Epoch 137/500\n",
            "\u001b[1m1688/1688\u001b[0m \u001b[32m━━━━━━━━━━━━━━━━━━━━\u001b[0m\u001b[37m\u001b[0m \u001b[1m5s\u001b[0m 2ms/step - accuracy: 0.1716 - loss: 0.3868 - val_accuracy: 0.1757 - val_loss: 0.6951\n",
            "Epoch 138/500\n",
            "\u001b[1m1688/1688\u001b[0m \u001b[32m━━━━━━━━━━━━━━━━━━━━\u001b[0m\u001b[37m\u001b[0m \u001b[1m4s\u001b[0m 2ms/step - accuracy: 0.1694 - loss: 0.3945 - val_accuracy: 0.1787 - val_loss: 0.7420\n",
            "Epoch 139/500\n",
            "\u001b[1m1688/1688\u001b[0m \u001b[32m━━━━━━━━━━━━━━━━━━━━\u001b[0m\u001b[37m\u001b[0m \u001b[1m4s\u001b[0m 2ms/step - accuracy: 0.1692 - loss: 0.3997 - val_accuracy: 0.1802 - val_loss: 0.7015\n",
            "Epoch 140/500\n",
            "\u001b[1m1688/1688\u001b[0m \u001b[32m━━━━━━━━━━━━━━━━━━━━\u001b[0m\u001b[37m\u001b[0m \u001b[1m4s\u001b[0m 2ms/step - accuracy: 0.1688 - loss: 0.4114 - val_accuracy: 0.1807 - val_loss: 0.6962\n",
            "Epoch 141/500\n",
            "\u001b[1m1688/1688\u001b[0m \u001b[32m━━━━━━━━━━━━━━━━━━━━\u001b[0m\u001b[37m\u001b[0m \u001b[1m6s\u001b[0m 2ms/step - accuracy: 0.1725 - loss: 0.4034 - val_accuracy: 0.1783 - val_loss: 0.6956\n",
            "Epoch 142/500\n",
            "\u001b[1m1688/1688\u001b[0m \u001b[32m━━━━━━━━━━━━━━━━━━━━\u001b[0m\u001b[37m\u001b[0m \u001b[1m3s\u001b[0m 2ms/step - accuracy: 0.1706 - loss: 0.4023 - val_accuracy: 0.1667 - val_loss: 0.7086\n",
            "Epoch 143/500\n",
            "\u001b[1m1688/1688\u001b[0m \u001b[32m━━━━━━━━━━━━━━━━━━━━\u001b[0m\u001b[37m\u001b[0m \u001b[1m3s\u001b[0m 2ms/step - accuracy: 0.1699 - loss: 0.3920 - val_accuracy: 0.1752 - val_loss: 0.6994\n",
            "Epoch 144/500\n",
            "\u001b[1m1688/1688\u001b[0m \u001b[32m━━━━━━━━━━━━━━━━━━━━\u001b[0m\u001b[37m\u001b[0m \u001b[1m6s\u001b[0m 2ms/step - accuracy: 0.1714 - loss: 0.3955 - val_accuracy: 0.1728 - val_loss: 0.7126\n",
            "Epoch 145/500\n",
            "\u001b[1m1688/1688\u001b[0m \u001b[32m━━━━━━━━━━━━━━━━━━━━\u001b[0m\u001b[37m\u001b[0m \u001b[1m5s\u001b[0m 2ms/step - accuracy: 0.1693 - loss: 0.4018 - val_accuracy: 0.1802 - val_loss: 0.6967\n",
            "Epoch 146/500\n",
            "\u001b[1m1688/1688\u001b[0m \u001b[32m━━━━━━━━━━━━━━━━━━━━\u001b[0m\u001b[37m\u001b[0m \u001b[1m3s\u001b[0m 2ms/step - accuracy: 0.1705 - loss: 0.3989 - val_accuracy: 0.1775 - val_loss: 0.6966\n",
            "Epoch 147/500\n",
            "\u001b[1m1688/1688\u001b[0m \u001b[32m━━━━━━━━━━━━━━━━━━━━\u001b[0m\u001b[37m\u001b[0m \u001b[1m3s\u001b[0m 2ms/step - accuracy: 0.1733 - loss: 0.4031 - val_accuracy: 0.1803 - val_loss: 0.7078\n",
            "Epoch 148/500\n",
            "\u001b[1m1688/1688\u001b[0m \u001b[32m━━━━━━━━━━━━━━━━━━━━\u001b[0m\u001b[37m\u001b[0m \u001b[1m5s\u001b[0m 2ms/step - accuracy: 0.1689 - loss: 0.3879 - val_accuracy: 0.1697 - val_loss: 0.7157\n",
            "Epoch 149/500\n",
            "\u001b[1m1688/1688\u001b[0m \u001b[32m━━━━━━━━━━━━━━━━━━━━\u001b[0m\u001b[37m\u001b[0m \u001b[1m3s\u001b[0m 2ms/step - accuracy: 0.1709 - loss: 0.4010 - val_accuracy: 0.1732 - val_loss: 0.7027\n",
            "Epoch 150/500\n",
            "\u001b[1m1688/1688\u001b[0m \u001b[32m━━━━━━━━━━━━━━━━━━━━\u001b[0m\u001b[37m\u001b[0m \u001b[1m3s\u001b[0m 2ms/step - accuracy: 0.1685 - loss: 0.3975 - val_accuracy: 0.1782 - val_loss: 0.7095\n",
            "Epoch 151/500\n",
            "\u001b[1m1688/1688\u001b[0m \u001b[32m━━━━━━━━━━━━━━━━━━━━\u001b[0m\u001b[37m\u001b[0m \u001b[1m4s\u001b[0m 2ms/step - accuracy: 0.1720 - loss: 0.4036 - val_accuracy: 0.1827 - val_loss: 0.6973\n",
            "Epoch 152/500\n",
            "\u001b[1m1688/1688\u001b[0m \u001b[32m━━━━━━━━━━━━━━━━━━━━\u001b[0m\u001b[37m\u001b[0m \u001b[1m3s\u001b[0m 2ms/step - accuracy: 0.1735 - loss: 0.4024 - val_accuracy: 0.1732 - val_loss: 0.6962\n",
            "Epoch 153/500\n",
            "\u001b[1m1688/1688\u001b[0m \u001b[32m━━━━━━━━━━━━━━━━━━━━\u001b[0m\u001b[37m\u001b[0m \u001b[1m3s\u001b[0m 2ms/step - accuracy: 0.1719 - loss: 0.4051 - val_accuracy: 0.1728 - val_loss: 0.7034\n",
            "Epoch 154/500\n",
            "\u001b[1m1688/1688\u001b[0m \u001b[32m━━━━━━━━━━━━━━━━━━━━\u001b[0m\u001b[37m\u001b[0m \u001b[1m6s\u001b[0m 2ms/step - accuracy: 0.1685 - loss: 0.3961 - val_accuracy: 0.1772 - val_loss: 0.7017\n",
            "Epoch 155/500\n",
            "\u001b[1m1688/1688\u001b[0m \u001b[32m━━━━━━━━━━━━━━━━━━━━\u001b[0m\u001b[37m\u001b[0m \u001b[1m3s\u001b[0m 2ms/step - accuracy: 0.1729 - loss: 0.3968 - val_accuracy: 0.1762 - val_loss: 0.6994\n",
            "Epoch 156/500\n",
            "\u001b[1m1688/1688\u001b[0m \u001b[32m━━━━━━━━━━━━━━━━━━━━\u001b[0m\u001b[37m\u001b[0m \u001b[1m5s\u001b[0m 2ms/step - accuracy: 0.1672 - loss: 0.3894 - val_accuracy: 0.1833 - val_loss: 0.7136\n",
            "Epoch 157/500\n",
            "\u001b[1m1688/1688\u001b[0m \u001b[32m━━━━━━━━━━━━━━━━━━━━\u001b[0m\u001b[37m\u001b[0m \u001b[1m6s\u001b[0m 2ms/step - accuracy: 0.1709 - loss: 0.4030 - val_accuracy: 0.1743 - val_loss: 0.7045\n",
            "Epoch 158/500\n",
            "\u001b[1m1688/1688\u001b[0m \u001b[32m━━━━━━━━━━━━━━━━━━━━\u001b[0m\u001b[37m\u001b[0m \u001b[1m3s\u001b[0m 2ms/step - accuracy: 0.1724 - loss: 0.4038 - val_accuracy: 0.1732 - val_loss: 0.6965\n",
            "Epoch 159/500\n",
            "\u001b[1m1688/1688\u001b[0m \u001b[32m━━━━━━━━━━━━━━━━━━━━\u001b[0m\u001b[37m\u001b[0m \u001b[1m3s\u001b[0m 2ms/step - accuracy: 0.1714 - loss: 0.4007 - val_accuracy: 0.1758 - val_loss: 0.7044\n",
            "Epoch 160/500\n",
            "\u001b[1m1688/1688\u001b[0m \u001b[32m━━━━━━━━━━━━━━━━━━━━\u001b[0m\u001b[37m\u001b[0m \u001b[1m4s\u001b[0m 2ms/step - accuracy: 0.1685 - loss: 0.3918 - val_accuracy: 0.1773 - val_loss: 0.7095\n",
            "Epoch 161/500\n",
            "\u001b[1m1688/1688\u001b[0m \u001b[32m━━━━━━━━━━━━━━━━━━━━\u001b[0m\u001b[37m\u001b[0m \u001b[1m3s\u001b[0m 2ms/step - accuracy: 0.1717 - loss: 0.3967 - val_accuracy: 0.1742 - val_loss: 0.7005\n",
            "Epoch 162/500\n",
            "\u001b[1m1688/1688\u001b[0m \u001b[32m━━━━━━━━━━━━━━━━━━━━\u001b[0m\u001b[37m\u001b[0m \u001b[1m3s\u001b[0m 2ms/step - accuracy: 0.1723 - loss: 0.3971 - val_accuracy: 0.1775 - val_loss: 0.7047\n",
            "Epoch 163/500\n",
            "\u001b[1m1688/1688\u001b[0m \u001b[32m━━━━━━━━━━━━━━━━━━━━\u001b[0m\u001b[37m\u001b[0m \u001b[1m3s\u001b[0m 2ms/step - accuracy: 0.1681 - loss: 0.3982 - val_accuracy: 0.1775 - val_loss: 0.6900\n",
            "Epoch 164/500\n",
            "\u001b[1m1688/1688\u001b[0m \u001b[32m━━━━━━━━━━━━━━━━━━━━\u001b[0m\u001b[37m\u001b[0m \u001b[1m5s\u001b[0m 2ms/step - accuracy: 0.1720 - loss: 0.3802 - val_accuracy: 0.1775 - val_loss: 0.7077\n",
            "Epoch 165/500\n",
            "\u001b[1m1688/1688\u001b[0m \u001b[32m━━━━━━━━━━━━━━━━━━━━\u001b[0m\u001b[37m\u001b[0m \u001b[1m3s\u001b[0m 2ms/step - accuracy: 0.1701 - loss: 0.4022 - val_accuracy: 0.1795 - val_loss: 0.6991\n",
            "Epoch 166/500\n",
            "\u001b[1m1688/1688\u001b[0m \u001b[32m━━━━━━━━━━━━━━━━━━━━\u001b[0m\u001b[37m\u001b[0m \u001b[1m3s\u001b[0m 2ms/step - accuracy: 0.1693 - loss: 0.3947 - val_accuracy: 0.1792 - val_loss: 0.7114\n",
            "Epoch 167/500\n",
            "\u001b[1m1688/1688\u001b[0m \u001b[32m━━━━━━━━━━━━━━━━━━━━\u001b[0m\u001b[37m\u001b[0m \u001b[1m4s\u001b[0m 3ms/step - accuracy: 0.1709 - loss: 0.3905 - val_accuracy: 0.1690 - val_loss: 0.7016\n",
            "Epoch 168/500\n",
            "\u001b[1m1688/1688\u001b[0m \u001b[32m━━━━━━━━━━━━━━━━━━━━\u001b[0m\u001b[37m\u001b[0m \u001b[1m3s\u001b[0m 2ms/step - accuracy: 0.1673 - loss: 0.4040 - val_accuracy: 0.1780 - val_loss: 0.7160\n",
            "Epoch 169/500\n",
            "\u001b[1m1688/1688\u001b[0m \u001b[32m━━━━━━━━━━━━━━━━━━━━\u001b[0m\u001b[37m\u001b[0m \u001b[1m5s\u001b[0m 2ms/step - accuracy: 0.1699 - loss: 0.3981 - val_accuracy: 0.1868 - val_loss: 0.7081\n",
            "Epoch 170/500\n",
            "\u001b[1m1688/1688\u001b[0m \u001b[32m━━━━━━━━━━━━━━━━━━━━\u001b[0m\u001b[37m\u001b[0m \u001b[1m6s\u001b[0m 2ms/step - accuracy: 0.1702 - loss: 0.3875 - val_accuracy: 0.1790 - val_loss: 0.7031\n",
            "Epoch 171/500\n",
            "\u001b[1m1688/1688\u001b[0m \u001b[32m━━━━━━━━━━━━━━━━━━━━\u001b[0m\u001b[37m\u001b[0m \u001b[1m5s\u001b[0m 2ms/step - accuracy: 0.1727 - loss: 0.3933 - val_accuracy: 0.1722 - val_loss: 0.6931\n",
            "Epoch 172/500\n",
            "\u001b[1m1688/1688\u001b[0m \u001b[32m━━━━━━━━━━━━━━━━━━━━\u001b[0m\u001b[37m\u001b[0m \u001b[1m3s\u001b[0m 2ms/step - accuracy: 0.1701 - loss: 0.3991 - val_accuracy: 0.1730 - val_loss: 0.7017\n",
            "Epoch 173/500\n",
            "\u001b[1m1688/1688\u001b[0m \u001b[32m━━━━━━━━━━━━━━━━━━━━\u001b[0m\u001b[37m\u001b[0m \u001b[1m4s\u001b[0m 2ms/step - accuracy: 0.1684 - loss: 0.3980 - val_accuracy: 0.1788 - val_loss: 0.6962\n",
            "Epoch 174/500\n",
            "\u001b[1m1688/1688\u001b[0m \u001b[32m━━━━━━━━━━━━━━━━━━━━\u001b[0m\u001b[37m\u001b[0m \u001b[1m3s\u001b[0m 2ms/step - accuracy: 0.1699 - loss: 0.3962 - val_accuracy: 0.1740 - val_loss: 0.7071\n",
            "Epoch 175/500\n",
            "\u001b[1m1688/1688\u001b[0m \u001b[32m━━━━━━━━━━━━━━━━━━━━\u001b[0m\u001b[37m\u001b[0m \u001b[1m5s\u001b[0m 2ms/step - accuracy: 0.1720 - loss: 0.3901 - val_accuracy: 0.1735 - val_loss: 0.7226\n",
            "Epoch 176/500\n",
            "\u001b[1m1688/1688\u001b[0m \u001b[32m━━━━━━━━━━━━━━━━━━━━\u001b[0m\u001b[37m\u001b[0m \u001b[1m4s\u001b[0m 2ms/step - accuracy: 0.1714 - loss: 0.4028 - val_accuracy: 0.1773 - val_loss: 0.6995\n",
            "Epoch 177/500\n",
            "\u001b[1m1688/1688\u001b[0m \u001b[32m━━━━━━━━━━━━━━━━━━━━\u001b[0m\u001b[37m\u001b[0m \u001b[1m3s\u001b[0m 2ms/step - accuracy: 0.1671 - loss: 0.3950 - val_accuracy: 0.1773 - val_loss: 0.7056\n",
            "Epoch 178/500\n",
            "\u001b[1m1688/1688\u001b[0m \u001b[32m━━━━━━━━━━━━━━━━━━━━\u001b[0m\u001b[37m\u001b[0m \u001b[1m3s\u001b[0m 2ms/step - accuracy: 0.1683 - loss: 0.3981 - val_accuracy: 0.1735 - val_loss: 0.6985\n",
            "Epoch 179/500\n",
            "\u001b[1m1688/1688\u001b[0m \u001b[32m━━━━━━━━━━━━━━━━━━━━\u001b[0m\u001b[37m\u001b[0m \u001b[1m6s\u001b[0m 2ms/step - accuracy: 0.1689 - loss: 0.3986 - val_accuracy: 0.1788 - val_loss: 0.7047\n",
            "Epoch 180/500\n",
            "\u001b[1m1688/1688\u001b[0m \u001b[32m━━━━━━━━━━━━━━━━━━━━\u001b[0m\u001b[37m\u001b[0m \u001b[1m4s\u001b[0m 2ms/step - accuracy: 0.1690 - loss: 0.4067 - val_accuracy: 0.1807 - val_loss: 0.6990\n",
            "Epoch 181/500\n",
            "\u001b[1m1688/1688\u001b[0m \u001b[32m━━━━━━━━━━━━━━━━━━━━\u001b[0m\u001b[37m\u001b[0m \u001b[1m5s\u001b[0m 2ms/step - accuracy: 0.1731 - loss: 0.3876 - val_accuracy: 0.1722 - val_loss: 0.7048\n",
            "Epoch 182/500\n",
            "\u001b[1m1688/1688\u001b[0m \u001b[32m━━━━━━━━━━━━━━━━━━━━\u001b[0m\u001b[37m\u001b[0m \u001b[1m4s\u001b[0m 3ms/step - accuracy: 0.1727 - loss: 0.3909 - val_accuracy: 0.1820 - val_loss: 0.7106\n",
            "Epoch 183/500\n",
            "\u001b[1m1688/1688\u001b[0m \u001b[32m━━━━━━━━━━━━━━━━━━━━\u001b[0m\u001b[37m\u001b[0m \u001b[1m4s\u001b[0m 2ms/step - accuracy: 0.1718 - loss: 0.3917 - val_accuracy: 0.1797 - val_loss: 0.6890\n",
            "Epoch 184/500\n",
            "\u001b[1m1688/1688\u001b[0m \u001b[32m━━━━━━━━━━━━━━━━━━━━\u001b[0m\u001b[37m\u001b[0m \u001b[1m5s\u001b[0m 2ms/step - accuracy: 0.1706 - loss: 0.3914 - val_accuracy: 0.1758 - val_loss: 0.7098\n",
            "Epoch 185/500\n",
            "\u001b[1m1688/1688\u001b[0m \u001b[32m━━━━━━━━━━━━━━━━━━━━\u001b[0m\u001b[37m\u001b[0m \u001b[1m5s\u001b[0m 2ms/step - accuracy: 0.1710 - loss: 0.3950 - val_accuracy: 0.1782 - val_loss: 0.6927\n",
            "Epoch 186/500\n",
            "\u001b[1m1688/1688\u001b[0m \u001b[32m━━━━━━━━━━━━━━━━━━━━\u001b[0m\u001b[37m\u001b[0m \u001b[1m3s\u001b[0m 2ms/step - accuracy: 0.1720 - loss: 0.3942 - val_accuracy: 0.1792 - val_loss: 0.6931\n",
            "Epoch 187/500\n",
            "\u001b[1m1688/1688\u001b[0m \u001b[32m━━━━━━━━━━━━━━━━━━━━\u001b[0m\u001b[37m\u001b[0m \u001b[1m3s\u001b[0m 2ms/step - accuracy: 0.1712 - loss: 0.3837 - val_accuracy: 0.1643 - val_loss: 0.7102\n",
            "Epoch 188/500\n",
            "\u001b[1m1688/1688\u001b[0m \u001b[32m━━━━━━━━━━━━━━━━━━━━\u001b[0m\u001b[37m\u001b[0m \u001b[1m4s\u001b[0m 2ms/step - accuracy: 0.1707 - loss: 0.3950 - val_accuracy: 0.1833 - val_loss: 0.7004\n",
            "Epoch 189/500\n",
            "\u001b[1m1688/1688\u001b[0m \u001b[32m━━━━━━━━━━━━━━━━━━━━\u001b[0m\u001b[37m\u001b[0m \u001b[1m4s\u001b[0m 2ms/step - accuracy: 0.1717 - loss: 0.3820 - val_accuracy: 0.1790 - val_loss: 0.6999\n",
            "Epoch 190/500\n",
            "\u001b[1m1688/1688\u001b[0m \u001b[32m━━━━━━━━━━━━━━━━━━━━\u001b[0m\u001b[37m\u001b[0m \u001b[1m5s\u001b[0m 2ms/step - accuracy: 0.1738 - loss: 0.3902 - val_accuracy: 0.1772 - val_loss: 0.7006\n",
            "Epoch 191/500\n",
            "\u001b[1m1688/1688\u001b[0m \u001b[32m━━━━━━━━━━━━━━━━━━━━\u001b[0m\u001b[37m\u001b[0m \u001b[1m5s\u001b[0m 2ms/step - accuracy: 0.1691 - loss: 0.4016 - val_accuracy: 0.1678 - val_loss: 0.7018\n",
            "Epoch 192/500\n",
            "\u001b[1m1688/1688\u001b[0m \u001b[32m━━━━━━━━━━━━━━━━━━━━\u001b[0m\u001b[37m\u001b[0m \u001b[1m3s\u001b[0m 2ms/step - accuracy: 0.1706 - loss: 0.3909 - val_accuracy: 0.1738 - val_loss: 0.6951\n",
            "Epoch 193/500\n",
            "\u001b[1m1688/1688\u001b[0m \u001b[32m━━━━━━━━━━━━━━━━━━━━\u001b[0m\u001b[37m\u001b[0m \u001b[1m3s\u001b[0m 2ms/step - accuracy: 0.1665 - loss: 0.3970 - val_accuracy: 0.1755 - val_loss: 0.7025\n",
            "Epoch 194/500\n",
            "\u001b[1m1688/1688\u001b[0m \u001b[32m━━━━━━━━━━━━━━━━━━━━\u001b[0m\u001b[37m\u001b[0m \u001b[1m5s\u001b[0m 2ms/step - accuracy: 0.1711 - loss: 0.3935 - val_accuracy: 0.1695 - val_loss: 0.6960\n",
            "Epoch 195/500\n",
            "\u001b[1m1688/1688\u001b[0m \u001b[32m━━━━━━━━━━━━━━━━━━━━\u001b[0m\u001b[37m\u001b[0m \u001b[1m5s\u001b[0m 2ms/step - accuracy: 0.1716 - loss: 0.3978 - val_accuracy: 0.1775 - val_loss: 0.7047\n",
            "Epoch 196/500\n",
            "\u001b[1m1688/1688\u001b[0m \u001b[32m━━━━━━━━━━━━━━━━━━━━\u001b[0m\u001b[37m\u001b[0m \u001b[1m3s\u001b[0m 2ms/step - accuracy: 0.1703 - loss: 0.3849 - val_accuracy: 0.1692 - val_loss: 0.7097\n",
            "Epoch 197/500\n",
            "\u001b[1m1688/1688\u001b[0m \u001b[32m━━━━━━━━━━━━━━━━━━━━\u001b[0m\u001b[37m\u001b[0m \u001b[1m5s\u001b[0m 2ms/step - accuracy: 0.1684 - loss: 0.3959 - val_accuracy: 0.1752 - val_loss: 0.7118\n",
            "Epoch 198/500\n",
            "\u001b[1m1688/1688\u001b[0m \u001b[32m━━━━━━━━━━━━━━━━━━━━\u001b[0m\u001b[37m\u001b[0m \u001b[1m3s\u001b[0m 2ms/step - accuracy: 0.1713 - loss: 0.3913 - val_accuracy: 0.1798 - val_loss: 0.6978\n",
            "Epoch 199/500\n",
            "\u001b[1m1688/1688\u001b[0m \u001b[32m━━━━━━━━━━━━━━━━━━━━\u001b[0m\u001b[37m\u001b[0m \u001b[1m4s\u001b[0m 2ms/step - accuracy: 0.1712 - loss: 0.3973 - val_accuracy: 0.1715 - val_loss: 0.7058\n",
            "Epoch 200/500\n",
            "\u001b[1m1688/1688\u001b[0m \u001b[32m━━━━━━━━━━━━━━━━━━━━\u001b[0m\u001b[37m\u001b[0m \u001b[1m5s\u001b[0m 2ms/step - accuracy: 0.1753 - loss: 0.3974 - val_accuracy: 0.1827 - val_loss: 0.6929\n",
            "Epoch 201/500\n",
            "\u001b[1m1688/1688\u001b[0m \u001b[32m━━━━━━━━━━━━━━━━━━━━\u001b[0m\u001b[37m\u001b[0m \u001b[1m5s\u001b[0m 2ms/step - accuracy: 0.1710 - loss: 0.3866 - val_accuracy: 0.1762 - val_loss: 0.6860\n",
            "Epoch 202/500\n",
            "\u001b[1m1688/1688\u001b[0m \u001b[32m━━━━━━━━━━━━━━━━━━━━\u001b[0m\u001b[37m\u001b[0m \u001b[1m4s\u001b[0m 3ms/step - accuracy: 0.1729 - loss: 0.3894 - val_accuracy: 0.1792 - val_loss: 0.6924\n",
            "Epoch 203/500\n",
            "\u001b[1m1688/1688\u001b[0m \u001b[32m━━━━━━━━━━━━━━━━━━━━\u001b[0m\u001b[37m\u001b[0m \u001b[1m4s\u001b[0m 2ms/step - accuracy: 0.1705 - loss: 0.3829 - val_accuracy: 0.1808 - val_loss: 0.6983\n",
            "Epoch 204/500\n",
            "\u001b[1m1688/1688\u001b[0m \u001b[32m━━━━━━━━━━━━━━━━━━━━\u001b[0m\u001b[37m\u001b[0m \u001b[1m3s\u001b[0m 2ms/step - accuracy: 0.1707 - loss: 0.3870 - val_accuracy: 0.1810 - val_loss: 0.6994\n",
            "Epoch 205/500\n",
            "\u001b[1m1688/1688\u001b[0m \u001b[32m━━━━━━━━━━━━━━━━━━━━\u001b[0m\u001b[37m\u001b[0m \u001b[1m4s\u001b[0m 2ms/step - accuracy: 0.1689 - loss: 0.3975 - val_accuracy: 0.1722 - val_loss: 0.6922\n",
            "Epoch 206/500\n",
            "\u001b[1m1688/1688\u001b[0m \u001b[32m━━━━━━━━━━━━━━━━━━━━\u001b[0m\u001b[37m\u001b[0m \u001b[1m5s\u001b[0m 2ms/step - accuracy: 0.1710 - loss: 0.3967 - val_accuracy: 0.1788 - val_loss: 0.7046\n",
            "Epoch 207/500\n",
            "\u001b[1m1688/1688\u001b[0m \u001b[32m━━━━━━━━━━━━━━━━━━━━\u001b[0m\u001b[37m\u001b[0m \u001b[1m5s\u001b[0m 2ms/step - accuracy: 0.1698 - loss: 0.3841 - val_accuracy: 0.1785 - val_loss: 0.6926\n",
            "Epoch 208/500\n",
            "\u001b[1m1688/1688\u001b[0m \u001b[32m━━━━━━━━━━━━━━━━━━━━\u001b[0m\u001b[37m\u001b[0m \u001b[1m4s\u001b[0m 2ms/step - accuracy: 0.1708 - loss: 0.3870 - val_accuracy: 0.1738 - val_loss: 0.7087\n",
            "Epoch 209/500\n",
            "\u001b[1m1688/1688\u001b[0m \u001b[32m━━━━━━━━━━━━━━━━━━━━\u001b[0m\u001b[37m\u001b[0m \u001b[1m3s\u001b[0m 2ms/step - accuracy: 0.1710 - loss: 0.3848 - val_accuracy: 0.1660 - val_loss: 0.7057\n",
            "Epoch 210/500\n",
            "\u001b[1m1688/1688\u001b[0m \u001b[32m━━━━━━━━━━━━━━━━━━━━\u001b[0m\u001b[37m\u001b[0m \u001b[1m3s\u001b[0m 2ms/step - accuracy: 0.1700 - loss: 0.3938 - val_accuracy: 0.1762 - val_loss: 0.7147\n",
            "Epoch 211/500\n",
            "\u001b[1m1688/1688\u001b[0m \u001b[32m━━━━━━━━━━━━━━━━━━━━\u001b[0m\u001b[37m\u001b[0m \u001b[1m3s\u001b[0m 2ms/step - accuracy: 0.1702 - loss: 0.3835 - val_accuracy: 0.1732 - val_loss: 0.7111\n",
            "Epoch 212/500\n",
            "\u001b[1m1688/1688\u001b[0m \u001b[32m━━━━━━━━━━━━━━━━━━━━\u001b[0m\u001b[37m\u001b[0m \u001b[1m4s\u001b[0m 2ms/step - accuracy: 0.1715 - loss: 0.3861 - val_accuracy: 0.1758 - val_loss: 0.7032\n",
            "Epoch 213/500\n",
            "\u001b[1m1688/1688\u001b[0m \u001b[32m━━━━━━━━━━━━━━━━━━━━\u001b[0m\u001b[37m\u001b[0m \u001b[1m4s\u001b[0m 2ms/step - accuracy: 0.1735 - loss: 0.3858 - val_accuracy: 0.1818 - val_loss: 0.6978\n",
            "Epoch 214/500\n",
            "\u001b[1m1688/1688\u001b[0m \u001b[32m━━━━━━━━━━━━━━━━━━━━\u001b[0m\u001b[37m\u001b[0m \u001b[1m3s\u001b[0m 2ms/step - accuracy: 0.1721 - loss: 0.3874 - val_accuracy: 0.1690 - val_loss: 0.7003\n",
            "Epoch 215/500\n",
            "\u001b[1m1688/1688\u001b[0m \u001b[32m━━━━━━━━━━━━━━━━━━━━\u001b[0m\u001b[37m\u001b[0m \u001b[1m6s\u001b[0m 2ms/step - accuracy: 0.1694 - loss: 0.3861 - val_accuracy: 0.1833 - val_loss: 0.7063\n",
            "Epoch 216/500\n",
            "\u001b[1m1688/1688\u001b[0m \u001b[32m━━━━━━━━━━━━━━━━━━━━\u001b[0m\u001b[37m\u001b[0m \u001b[1m3s\u001b[0m 2ms/step - accuracy: 0.1712 - loss: 0.3921 - val_accuracy: 0.1805 - val_loss: 0.7015\n",
            "Epoch 217/500\n",
            "\u001b[1m1688/1688\u001b[0m \u001b[32m━━━━━━━━━━━━━━━━━━━━\u001b[0m\u001b[37m\u001b[0m \u001b[1m3s\u001b[0m 2ms/step - accuracy: 0.1702 - loss: 0.3977 - val_accuracy: 0.1762 - val_loss: 0.6964\n",
            "Epoch 218/500\n",
            "\u001b[1m1688/1688\u001b[0m \u001b[32m━━━━━━━━━━━━━━━━━━━━\u001b[0m\u001b[37m\u001b[0m \u001b[1m4s\u001b[0m 2ms/step - accuracy: 0.1709 - loss: 0.3929 - val_accuracy: 0.1708 - val_loss: 0.7321\n",
            "Epoch 219/500\n",
            "\u001b[1m1688/1688\u001b[0m \u001b[32m━━━━━━━━━━━━━━━━━━━━\u001b[0m\u001b[37m\u001b[0m \u001b[1m4s\u001b[0m 2ms/step - accuracy: 0.1735 - loss: 0.3991 - val_accuracy: 0.1778 - val_loss: 0.7005\n",
            "Epoch 220/500\n",
            "\u001b[1m1688/1688\u001b[0m \u001b[32m━━━━━━━━━━━━━━━━━━━━\u001b[0m\u001b[37m\u001b[0m \u001b[1m3s\u001b[0m 2ms/step - accuracy: 0.1746 - loss: 0.3817 - val_accuracy: 0.1783 - val_loss: 0.7021\n",
            "Epoch 221/500\n",
            "\u001b[1m1688/1688\u001b[0m \u001b[32m━━━━━━━━━━━━━━━━━━━━\u001b[0m\u001b[37m\u001b[0m \u001b[1m5s\u001b[0m 2ms/step - accuracy: 0.1713 - loss: 0.3840 - val_accuracy: 0.1773 - val_loss: 0.7024\n",
            "Epoch 222/500\n",
            "\u001b[1m1688/1688\u001b[0m \u001b[32m━━━━━━━━━━━━━━━━━━━━\u001b[0m\u001b[37m\u001b[0m \u001b[1m4s\u001b[0m 2ms/step - accuracy: 0.1719 - loss: 0.3911 - val_accuracy: 0.1753 - val_loss: 0.7049\n",
            "Epoch 223/500\n",
            "\u001b[1m1688/1688\u001b[0m \u001b[32m━━━━━━━━━━━━━━━━━━━━\u001b[0m\u001b[37m\u001b[0m \u001b[1m4s\u001b[0m 2ms/step - accuracy: 0.1694 - loss: 0.3937 - val_accuracy: 0.1637 - val_loss: 0.6991\n",
            "Epoch 224/500\n",
            "\u001b[1m1688/1688\u001b[0m \u001b[32m━━━━━━━━━━━━━━━━━━━━\u001b[0m\u001b[37m\u001b[0m \u001b[1m3s\u001b[0m 2ms/step - accuracy: 0.1722 - loss: 0.3839 - val_accuracy: 0.1762 - val_loss: 0.7025\n",
            "Epoch 225/500\n",
            "\u001b[1m1688/1688\u001b[0m \u001b[32m━━━━━━━━━━━━━━━━━━━━\u001b[0m\u001b[37m\u001b[0m \u001b[1m6s\u001b[0m 2ms/step - accuracy: 0.1718 - loss: 0.3956 - val_accuracy: 0.1817 - val_loss: 0.7021\n",
            "Epoch 226/500\n",
            "\u001b[1m1688/1688\u001b[0m \u001b[32m━━━━━━━━━━━━━━━━━━━━\u001b[0m\u001b[37m\u001b[0m \u001b[1m3s\u001b[0m 2ms/step - accuracy: 0.1692 - loss: 0.3934 - val_accuracy: 0.1817 - val_loss: 0.7075\n",
            "Epoch 227/500\n",
            "\u001b[1m1688/1688\u001b[0m \u001b[32m━━━━━━━━━━━━━━━━━━━━\u001b[0m\u001b[37m\u001b[0m \u001b[1m3s\u001b[0m 2ms/step - accuracy: 0.1723 - loss: 0.3881 - val_accuracy: 0.1678 - val_loss: 0.7029\n",
            "Epoch 228/500\n",
            "\u001b[1m1688/1688\u001b[0m \u001b[32m━━━━━━━━━━━━━━━━━━━━\u001b[0m\u001b[37m\u001b[0m \u001b[1m4s\u001b[0m 2ms/step - accuracy: 0.1706 - loss: 0.3901 - val_accuracy: 0.1683 - val_loss: 0.7134\n",
            "Epoch 229/500\n",
            "\u001b[1m1688/1688\u001b[0m \u001b[32m━━━━━━━━━━━━━━━━━━━━\u001b[0m\u001b[37m\u001b[0m \u001b[1m4s\u001b[0m 2ms/step - accuracy: 0.1720 - loss: 0.3858 - val_accuracy: 0.1783 - val_loss: 0.6978\n",
            "Epoch 230/500\n",
            "\u001b[1m1688/1688\u001b[0m \u001b[32m━━━━━━━━━━━━━━━━━━━━\u001b[0m\u001b[37m\u001b[0m \u001b[1m5s\u001b[0m 2ms/step - accuracy: 0.1723 - loss: 0.3874 - val_accuracy: 0.1722 - val_loss: 0.6986\n",
            "Epoch 231/500\n",
            "\u001b[1m1688/1688\u001b[0m \u001b[32m━━━━━━━━━━━━━━━━━━━━\u001b[0m\u001b[37m\u001b[0m \u001b[1m4s\u001b[0m 3ms/step - accuracy: 0.1694 - loss: 0.3928 - val_accuracy: 0.1690 - val_loss: 0.7173\n",
            "Epoch 232/500\n",
            "\u001b[1m1688/1688\u001b[0m \u001b[32m━━━━━━━━━━━━━━━━━━━━\u001b[0m\u001b[37m\u001b[0m \u001b[1m3s\u001b[0m 2ms/step - accuracy: 0.1720 - loss: 0.3888 - val_accuracy: 0.1770 - val_loss: 0.7033\n",
            "Epoch 233/500\n",
            "\u001b[1m1688/1688\u001b[0m \u001b[32m━━━━━━━━━━━━━━━━━━━━\u001b[0m\u001b[37m\u001b[0m \u001b[1m5s\u001b[0m 2ms/step - accuracy: 0.1722 - loss: 0.3869 - val_accuracy: 0.1745 - val_loss: 0.7086\n",
            "Epoch 234/500\n",
            "\u001b[1m1688/1688\u001b[0m \u001b[32m━━━━━━━━━━━━━━━━━━━━\u001b[0m\u001b[37m\u001b[0m \u001b[1m4s\u001b[0m 2ms/step - accuracy: 0.1699 - loss: 0.3818 - val_accuracy: 0.1810 - val_loss: 0.7021\n",
            "Epoch 235/500\n",
            "\u001b[1m1688/1688\u001b[0m \u001b[32m━━━━━━━━━━━━━━━━━━━━\u001b[0m\u001b[37m\u001b[0m \u001b[1m3s\u001b[0m 2ms/step - accuracy: 0.1690 - loss: 0.3928 - val_accuracy: 0.1793 - val_loss: 0.7039\n",
            "Epoch 236/500\n",
            "\u001b[1m1688/1688\u001b[0m \u001b[32m━━━━━━━━━━━━━━━━━━━━\u001b[0m\u001b[37m\u001b[0m \u001b[1m5s\u001b[0m 2ms/step - accuracy: 0.1726 - loss: 0.3847 - val_accuracy: 0.1722 - val_loss: 0.7124\n",
            "Epoch 237/500\n",
            "\u001b[1m1688/1688\u001b[0m \u001b[32m━━━━━━━━━━━━━━━━━━━━\u001b[0m\u001b[37m\u001b[0m \u001b[1m6s\u001b[0m 2ms/step - accuracy: 0.1730 - loss: 0.3883 - val_accuracy: 0.1788 - val_loss: 0.6993\n",
            "Epoch 238/500\n",
            "\u001b[1m1688/1688\u001b[0m \u001b[32m━━━━━━━━━━━━━━━━━━━━\u001b[0m\u001b[37m\u001b[0m \u001b[1m3s\u001b[0m 2ms/step - accuracy: 0.1694 - loss: 0.3839 - val_accuracy: 0.1798 - val_loss: 0.7026\n",
            "Epoch 239/500\n",
            "\u001b[1m1688/1688\u001b[0m \u001b[32m━━━━━━━━━━━━━━━━━━━━\u001b[0m\u001b[37m\u001b[0m \u001b[1m5s\u001b[0m 2ms/step - accuracy: 0.1704 - loss: 0.3886 - val_accuracy: 0.1722 - val_loss: 0.7117\n",
            "Epoch 240/500\n",
            "\u001b[1m1688/1688\u001b[0m \u001b[32m━━━━━━━━━━━━━━━━━━━━\u001b[0m\u001b[37m\u001b[0m \u001b[1m4s\u001b[0m 2ms/step - accuracy: 0.1726 - loss: 0.3863 - val_accuracy: 0.1683 - val_loss: 0.6991\n",
            "Epoch 241/500\n",
            "\u001b[1m1688/1688\u001b[0m \u001b[32m━━━━━━━━━━━━━━━━━━━━\u001b[0m\u001b[37m\u001b[0m \u001b[1m4s\u001b[0m 2ms/step - accuracy: 0.1731 - loss: 0.3882 - val_accuracy: 0.1688 - val_loss: 0.7046\n",
            "Epoch 242/500\n",
            "\u001b[1m1688/1688\u001b[0m \u001b[32m━━━━━━━━━━━━━━━━━━━━\u001b[0m\u001b[37m\u001b[0m \u001b[1m3s\u001b[0m 2ms/step - accuracy: 0.1711 - loss: 0.3836 - val_accuracy: 0.1767 - val_loss: 0.7089\n",
            "Epoch 243/500\n",
            "\u001b[1m1688/1688\u001b[0m \u001b[32m━━━━━━━━━━━━━━━━━━━━\u001b[0m\u001b[37m\u001b[0m \u001b[1m6s\u001b[0m 3ms/step - accuracy: 0.1725 - loss: 0.3860 - val_accuracy: 0.1747 - val_loss: 0.7071\n",
            "Epoch 244/500\n",
            "\u001b[1m1688/1688\u001b[0m \u001b[32m━━━━━━━━━━━━━━━━━━━━\u001b[0m\u001b[37m\u001b[0m \u001b[1m4s\u001b[0m 2ms/step - accuracy: 0.1699 - loss: 0.3927 - val_accuracy: 0.1790 - val_loss: 0.6962\n",
            "Epoch 245/500\n",
            "\u001b[1m1688/1688\u001b[0m \u001b[32m━━━━━━━━━━━━━━━━━━━━\u001b[0m\u001b[37m\u001b[0m \u001b[1m3s\u001b[0m 2ms/step - accuracy: 0.1726 - loss: 0.3774 - val_accuracy: 0.1772 - val_loss: 0.7059\n",
            "Epoch 246/500\n",
            "\u001b[1m1688/1688\u001b[0m \u001b[32m━━━━━━━━━━━━━━━━━━━━\u001b[0m\u001b[37m\u001b[0m \u001b[1m3s\u001b[0m 2ms/step - accuracy: 0.1717 - loss: 0.3921 - val_accuracy: 0.1838 - val_loss: 0.7170\n",
            "Epoch 247/500\n",
            "\u001b[1m1688/1688\u001b[0m \u001b[32m━━━━━━━━━━━━━━━━━━━━\u001b[0m\u001b[37m\u001b[0m \u001b[1m5s\u001b[0m 2ms/step - accuracy: 0.1692 - loss: 0.3962 - val_accuracy: 0.1750 - val_loss: 0.7020\n",
            "Epoch 248/500\n",
            "\u001b[1m1688/1688\u001b[0m \u001b[32m━━━━━━━━━━━━━━━━━━━━\u001b[0m\u001b[37m\u001b[0m \u001b[1m3s\u001b[0m 2ms/step - accuracy: 0.1701 - loss: 0.3835 - val_accuracy: 0.1672 - val_loss: 0.7066\n",
            "Epoch 249/500\n",
            "\u001b[1m1688/1688\u001b[0m \u001b[32m━━━━━━━━━━━━━━━━━━━━\u001b[0m\u001b[37m\u001b[0m \u001b[1m3s\u001b[0m 2ms/step - accuracy: 0.1710 - loss: 0.3806 - val_accuracy: 0.1798 - val_loss: 0.7012\n",
            "Epoch 250/500\n",
            "\u001b[1m1688/1688\u001b[0m \u001b[32m━━━━━━━━━━━━━━━━━━━━\u001b[0m\u001b[37m\u001b[0m \u001b[1m4s\u001b[0m 2ms/step - accuracy: 0.1706 - loss: 0.3884 - val_accuracy: 0.1645 - val_loss: 0.7405\n",
            "Epoch 251/500\n",
            "\u001b[1m1688/1688\u001b[0m \u001b[32m━━━━━━━━━━━━━━━━━━━━\u001b[0m\u001b[37m\u001b[0m \u001b[1m4s\u001b[0m 2ms/step - accuracy: 0.1724 - loss: 0.3821 - val_accuracy: 0.1760 - val_loss: 0.7086\n",
            "Epoch 252/500\n",
            "\u001b[1m1688/1688\u001b[0m \u001b[32m━━━━━━━━━━━━━━━━━━━━\u001b[0m\u001b[37m\u001b[0m \u001b[1m5s\u001b[0m 2ms/step - accuracy: 0.1722 - loss: 0.3836 - val_accuracy: 0.1835 - val_loss: 0.7119\n",
            "Epoch 253/500\n",
            "\u001b[1m1688/1688\u001b[0m \u001b[32m━━━━━━━━━━━━━━━━━━━━\u001b[0m\u001b[37m\u001b[0m \u001b[1m4s\u001b[0m 2ms/step - accuracy: 0.1708 - loss: 0.3872 - val_accuracy: 0.1743 - val_loss: 0.7050\n",
            "Epoch 254/500\n",
            "\u001b[1m1688/1688\u001b[0m \u001b[32m━━━━━━━━━━━━━━━━━━━━\u001b[0m\u001b[37m\u001b[0m \u001b[1m4s\u001b[0m 2ms/step - accuracy: 0.1725 - loss: 0.3829 - val_accuracy: 0.1798 - val_loss: 0.7001\n",
            "Epoch 255/500\n",
            "\u001b[1m1688/1688\u001b[0m \u001b[32m━━━━━━━━━━━━━━━━━━━━\u001b[0m\u001b[37m\u001b[0m \u001b[1m3s\u001b[0m 2ms/step - accuracy: 0.1717 - loss: 0.3784 - val_accuracy: 0.1732 - val_loss: 0.7295\n",
            "Epoch 256/500\n",
            "\u001b[1m1688/1688\u001b[0m \u001b[32m━━━━━━━━━━━━━━━━━━━━\u001b[0m\u001b[37m\u001b[0m \u001b[1m5s\u001b[0m 2ms/step - accuracy: 0.1727 - loss: 0.3889 - val_accuracy: 0.1778 - val_loss: 0.7101\n",
            "Epoch 257/500\n",
            "\u001b[1m1688/1688\u001b[0m \u001b[32m━━━━━━━━━━━━━━━━━━━━\u001b[0m\u001b[37m\u001b[0m \u001b[1m3s\u001b[0m 2ms/step - accuracy: 0.1699 - loss: 0.3848 - val_accuracy: 0.1747 - val_loss: 0.7022\n",
            "Epoch 258/500\n",
            "\u001b[1m1688/1688\u001b[0m \u001b[32m━━━━━━━━━━━━━━━━━━━━\u001b[0m\u001b[37m\u001b[0m \u001b[1m3s\u001b[0m 2ms/step - accuracy: 0.1705 - loss: 0.3896 - val_accuracy: 0.1807 - val_loss: 0.7026\n",
            "Epoch 259/500\n",
            "\u001b[1m1688/1688\u001b[0m \u001b[32m━━━━━━━━━━━━━━━━━━━━\u001b[0m\u001b[37m\u001b[0m \u001b[1m6s\u001b[0m 2ms/step - accuracy: 0.1751 - loss: 0.3905 - val_accuracy: 0.1798 - val_loss: 0.7008\n",
            "Epoch 260/500\n",
            "\u001b[1m1688/1688\u001b[0m \u001b[32m━━━━━━━━━━━━━━━━━━━━\u001b[0m\u001b[37m\u001b[0m \u001b[1m3s\u001b[0m 2ms/step - accuracy: 0.1724 - loss: 0.3813 - val_accuracy: 0.1712 - val_loss: 0.7210\n",
            "Epoch 261/500\n",
            "\u001b[1m1688/1688\u001b[0m \u001b[32m━━━━━━━━━━━━━━━━━━━━\u001b[0m\u001b[37m\u001b[0m \u001b[1m5s\u001b[0m 2ms/step - accuracy: 0.1701 - loss: 0.3817 - val_accuracy: 0.1747 - val_loss: 0.7187\n",
            "Epoch 262/500\n",
            "\u001b[1m1688/1688\u001b[0m \u001b[32m━━━━━━━━━━━━━━━━━━━━\u001b[0m\u001b[37m\u001b[0m \u001b[1m5s\u001b[0m 2ms/step - accuracy: 0.1696 - loss: 0.3899 - val_accuracy: 0.1650 - val_loss: 0.7178\n",
            "Epoch 263/500\n",
            "\u001b[1m1688/1688\u001b[0m \u001b[32m━━━━━━━━━━━━━━━━━━━━\u001b[0m\u001b[37m\u001b[0m \u001b[1m5s\u001b[0m 2ms/step - accuracy: 0.1697 - loss: 0.3953 - val_accuracy: 0.1685 - val_loss: 0.7066\n",
            "Epoch 264/500\n",
            "\u001b[1m1688/1688\u001b[0m \u001b[32m━━━━━━━━━━━━━━━━━━━━\u001b[0m\u001b[37m\u001b[0m \u001b[1m4s\u001b[0m 2ms/step - accuracy: 0.1727 - loss: 0.3847 - val_accuracy: 0.1773 - val_loss: 0.7086\n",
            "Epoch 265/500\n",
            "\u001b[1m1688/1688\u001b[0m \u001b[32m━━━━━━━━━━━━━━━━━━━━\u001b[0m\u001b[37m\u001b[0m \u001b[1m4s\u001b[0m 2ms/step - accuracy: 0.1680 - loss: 0.3889 - val_accuracy: 0.1815 - val_loss: 0.7148\n",
            "Epoch 266/500\n",
            "\u001b[1m1688/1688\u001b[0m \u001b[32m━━━━━━━━━━━━━━━━━━━━\u001b[0m\u001b[37m\u001b[0m \u001b[1m3s\u001b[0m 2ms/step - accuracy: 0.1727 - loss: 0.3863 - val_accuracy: 0.1758 - val_loss: 0.7170\n",
            "Epoch 267/500\n",
            "\u001b[1m1688/1688\u001b[0m \u001b[32m━━━━━━━━━━━━━━━━━━━━\u001b[0m\u001b[37m\u001b[0m \u001b[1m3s\u001b[0m 2ms/step - accuracy: 0.1731 - loss: 0.3914 - val_accuracy: 0.1653 - val_loss: 0.7205\n",
            "Epoch 268/500\n",
            "\u001b[1m1688/1688\u001b[0m \u001b[32m━━━━━━━━━━━━━━━━━━━━\u001b[0m\u001b[37m\u001b[0m \u001b[1m4s\u001b[0m 2ms/step - accuracy: 0.1716 - loss: 0.3884 - val_accuracy: 0.1822 - val_loss: 0.7078\n",
            "Epoch 269/500\n",
            "\u001b[1m1688/1688\u001b[0m \u001b[32m━━━━━━━━━━━━━━━━━━━━\u001b[0m\u001b[37m\u001b[0m \u001b[1m3s\u001b[0m 2ms/step - accuracy: 0.1716 - loss: 0.3932 - val_accuracy: 0.1800 - val_loss: 0.7043\n",
            "Epoch 270/500\n",
            "\u001b[1m1688/1688\u001b[0m \u001b[32m━━━━━━━━━━━━━━━━━━━━\u001b[0m\u001b[37m\u001b[0m \u001b[1m3s\u001b[0m 2ms/step - accuracy: 0.1730 - loss: 0.3879 - val_accuracy: 0.1762 - val_loss: 0.7089\n",
            "Epoch 271/500\n",
            "\u001b[1m1688/1688\u001b[0m \u001b[32m━━━━━━━━━━━━━━━━━━━━\u001b[0m\u001b[37m\u001b[0m \u001b[1m4s\u001b[0m 2ms/step - accuracy: 0.1684 - loss: 0.3864 - val_accuracy: 0.1782 - val_loss: 0.6962\n",
            "Epoch 272/500\n",
            "\u001b[1m1688/1688\u001b[0m \u001b[32m━━━━━━━━━━━━━━━━━━━━\u001b[0m\u001b[37m\u001b[0m \u001b[1m4s\u001b[0m 2ms/step - accuracy: 0.1728 - loss: 0.3809 - val_accuracy: 0.1778 - val_loss: 0.7092\n",
            "Epoch 273/500\n",
            "\u001b[1m1688/1688\u001b[0m \u001b[32m━━━━━━━━━━━━━━━━━━━━\u001b[0m\u001b[37m\u001b[0m \u001b[1m5s\u001b[0m 2ms/step - accuracy: 0.1709 - loss: 0.3816 - val_accuracy: 0.1800 - val_loss: 0.7069\n",
            "Epoch 274/500\n",
            "\u001b[1m1688/1688\u001b[0m \u001b[32m━━━━━━━━━━━━━━━━━━━━\u001b[0m\u001b[37m\u001b[0m \u001b[1m5s\u001b[0m 2ms/step - accuracy: 0.1704 - loss: 0.3887 - val_accuracy: 0.1758 - val_loss: 0.7223\n",
            "Epoch 275/500\n",
            "\u001b[1m1688/1688\u001b[0m \u001b[32m━━━━━━━━━━━━━━━━━━━━\u001b[0m\u001b[37m\u001b[0m \u001b[1m3s\u001b[0m 2ms/step - accuracy: 0.1730 - loss: 0.3870 - val_accuracy: 0.1740 - val_loss: 0.7102\n",
            "Epoch 276/500\n",
            "\u001b[1m1688/1688\u001b[0m \u001b[32m━━━━━━━━━━━━━━━━━━━━\u001b[0m\u001b[37m\u001b[0m \u001b[1m3s\u001b[0m 2ms/step - accuracy: 0.1711 - loss: 0.3887 - val_accuracy: 0.1763 - val_loss: 0.7285\n",
            "Epoch 277/500\n",
            "\u001b[1m1688/1688\u001b[0m \u001b[32m━━━━━━━━━━━━━━━━━━━━\u001b[0m\u001b[37m\u001b[0m \u001b[1m4s\u001b[0m 2ms/step - accuracy: 0.1726 - loss: 0.3864 - val_accuracy: 0.1792 - val_loss: 0.7144\n",
            "Epoch 278/500\n",
            "\u001b[1m1688/1688\u001b[0m \u001b[32m━━━━━━━━━━━━━━━━━━━━\u001b[0m\u001b[37m\u001b[0m \u001b[1m4s\u001b[0m 2ms/step - accuracy: 0.1731 - loss: 0.3885 - val_accuracy: 0.1582 - val_loss: 0.7203\n",
            "Epoch 279/500\n",
            "\u001b[1m1688/1688\u001b[0m \u001b[32m━━━━━━━━━━━━━━━━━━━━\u001b[0m\u001b[37m\u001b[0m \u001b[1m5s\u001b[0m 2ms/step - accuracy: 0.1705 - loss: 0.3830 - val_accuracy: 0.1805 - val_loss: 0.7210\n",
            "Epoch 280/500\n",
            "\u001b[1m1688/1688\u001b[0m \u001b[32m━━━━━━━━━━━━━━━━━━━━\u001b[0m\u001b[37m\u001b[0m \u001b[1m5s\u001b[0m 3ms/step - accuracy: 0.1720 - loss: 0.3864 - val_accuracy: 0.1700 - val_loss: 0.7146\n",
            "Epoch 281/500\n",
            "\u001b[1m1688/1688\u001b[0m \u001b[32m━━━━━━━━━━━━━━━━━━━━\u001b[0m\u001b[37m\u001b[0m \u001b[1m3s\u001b[0m 2ms/step - accuracy: 0.1697 - loss: 0.3896 - val_accuracy: 0.1827 - val_loss: 0.7111\n",
            "Epoch 282/500\n",
            "\u001b[1m1688/1688\u001b[0m \u001b[32m━━━━━━━━━━━━━━━━━━━━\u001b[0m\u001b[37m\u001b[0m \u001b[1m3s\u001b[0m 2ms/step - accuracy: 0.1732 - loss: 0.3876 - val_accuracy: 0.1787 - val_loss: 0.7021\n",
            "Epoch 283/500\n",
            "\u001b[1m1688/1688\u001b[0m \u001b[32m━━━━━━━━━━━━━━━━━━━━\u001b[0m\u001b[37m\u001b[0m \u001b[1m3s\u001b[0m 2ms/step - accuracy: 0.1745 - loss: 0.3797 - val_accuracy: 0.1760 - val_loss: 0.7141\n",
            "Epoch 284/500\n",
            "\u001b[1m1688/1688\u001b[0m \u001b[32m━━━━━━━━━━━━━━━━━━━━\u001b[0m\u001b[37m\u001b[0m \u001b[1m5s\u001b[0m 2ms/step - accuracy: 0.1742 - loss: 0.3803 - val_accuracy: 0.1813 - val_loss: 0.7062\n",
            "Epoch 285/500\n",
            "\u001b[1m1688/1688\u001b[0m \u001b[32m━━━━━━━━━━━━━━━━━━━━\u001b[0m\u001b[37m\u001b[0m \u001b[1m3s\u001b[0m 2ms/step - accuracy: 0.1720 - loss: 0.3789 - val_accuracy: 0.1803 - val_loss: 0.7207\n",
            "Epoch 286/500\n",
            "\u001b[1m1688/1688\u001b[0m \u001b[32m━━━━━━━━━━━━━━━━━━━━\u001b[0m\u001b[37m\u001b[0m \u001b[1m3s\u001b[0m 2ms/step - accuracy: 0.1712 - loss: 0.3758 - val_accuracy: 0.1713 - val_loss: 0.7046\n",
            "Epoch 287/500\n",
            "\u001b[1m1688/1688\u001b[0m \u001b[32m━━━━━━━━━━━━━━━━━━━━\u001b[0m\u001b[37m\u001b[0m \u001b[1m5s\u001b[0m 2ms/step - accuracy: 0.1709 - loss: 0.3806 - val_accuracy: 0.1807 - val_loss: 0.7069\n",
            "Epoch 288/500\n",
            "\u001b[1m1688/1688\u001b[0m \u001b[32m━━━━━━━━━━━━━━━━━━━━\u001b[0m\u001b[37m\u001b[0m \u001b[1m3s\u001b[0m 2ms/step - accuracy: 0.1708 - loss: 0.3962 - val_accuracy: 0.1710 - val_loss: 0.7108\n",
            "Epoch 289/500\n",
            "\u001b[1m1688/1688\u001b[0m \u001b[32m━━━━━━━━━━━━━━━━━━━━\u001b[0m\u001b[37m\u001b[0m \u001b[1m6s\u001b[0m 2ms/step - accuracy: 0.1721 - loss: 0.3775 - val_accuracy: 0.1778 - val_loss: 0.7104\n",
            "Epoch 290/500\n",
            "\u001b[1m1688/1688\u001b[0m \u001b[32m━━━━━━━━━━━━━━━━━━━━\u001b[0m\u001b[37m\u001b[0m \u001b[1m4s\u001b[0m 2ms/step - accuracy: 0.1727 - loss: 0.3890 - val_accuracy: 0.1735 - val_loss: 0.7151\n",
            "Epoch 291/500\n",
            "\u001b[1m1688/1688\u001b[0m \u001b[32m━━━━━━━━━━━━━━━━━━━━\u001b[0m\u001b[37m\u001b[0m \u001b[1m3s\u001b[0m 2ms/step - accuracy: 0.1726 - loss: 0.3805 - val_accuracy: 0.1705 - val_loss: 0.7155\n",
            "Epoch 292/500\n",
            "\u001b[1m1688/1688\u001b[0m \u001b[32m━━━━━━━━━━━━━━━━━━━━\u001b[0m\u001b[37m\u001b[0m \u001b[1m4s\u001b[0m 2ms/step - accuracy: 0.1735 - loss: 0.3816 - val_accuracy: 0.1705 - val_loss: 0.7139\n",
            "Epoch 293/500\n",
            "\u001b[1m1688/1688\u001b[0m \u001b[32m━━━━━━━━━━━━━━━━━━━━\u001b[0m\u001b[37m\u001b[0m \u001b[1m4s\u001b[0m 2ms/step - accuracy: 0.1736 - loss: 0.3840 - val_accuracy: 0.1782 - val_loss: 0.7177\n",
            "Epoch 294/500\n",
            "\u001b[1m1688/1688\u001b[0m \u001b[32m━━━━━━━━━━━━━━━━━━━━\u001b[0m\u001b[37m\u001b[0m \u001b[1m5s\u001b[0m 2ms/step - accuracy: 0.1703 - loss: 0.3829 - val_accuracy: 0.1733 - val_loss: 0.7072\n",
            "Epoch 295/500\n",
            "\u001b[1m1688/1688\u001b[0m \u001b[32m━━━━━━━━━━━━━━━━━━━━\u001b[0m\u001b[37m\u001b[0m \u001b[1m3s\u001b[0m 2ms/step - accuracy: 0.1707 - loss: 0.3855 - val_accuracy: 0.1740 - val_loss: 0.7117\n",
            "Epoch 296/500\n",
            "\u001b[1m1688/1688\u001b[0m \u001b[32m━━━━━━━━━━━━━━━━━━━━\u001b[0m\u001b[37m\u001b[0m \u001b[1m4s\u001b[0m 2ms/step - accuracy: 0.1689 - loss: 0.3906 - val_accuracy: 0.1703 - val_loss: 0.7109\n",
            "Epoch 297/500\n",
            "\u001b[1m1688/1688\u001b[0m \u001b[32m━━━━━━━━━━━━━━━━━━━━\u001b[0m\u001b[37m\u001b[0m \u001b[1m3s\u001b[0m 2ms/step - accuracy: 0.1711 - loss: 0.3797 - val_accuracy: 0.1838 - val_loss: 0.7153\n",
            "Epoch 298/500\n",
            "\u001b[1m1688/1688\u001b[0m \u001b[32m━━━━━━━━━━━━━━━━━━━━\u001b[0m\u001b[37m\u001b[0m \u001b[1m5s\u001b[0m 2ms/step - accuracy: 0.1709 - loss: 0.3799 - val_accuracy: 0.1777 - val_loss: 0.7118\n",
            "Epoch 299/500\n",
            "\u001b[1m1688/1688\u001b[0m \u001b[32m━━━━━━━━━━━━━━━━━━━━\u001b[0m\u001b[37m\u001b[0m \u001b[1m4s\u001b[0m 2ms/step - accuracy: 0.1692 - loss: 0.3884 - val_accuracy: 0.1750 - val_loss: 0.7143\n",
            "Epoch 300/500\n",
            "\u001b[1m1688/1688\u001b[0m \u001b[32m━━━━━━━━━━━━━━━━━━━━\u001b[0m\u001b[37m\u001b[0m \u001b[1m4s\u001b[0m 2ms/step - accuracy: 0.1750 - loss: 0.3844 - val_accuracy: 0.1793 - val_loss: 0.7091\n",
            "Epoch 301/500\n",
            "\u001b[1m1688/1688\u001b[0m \u001b[32m━━━━━━━━━━━━━━━━━━━━\u001b[0m\u001b[37m\u001b[0m \u001b[1m3s\u001b[0m 2ms/step - accuracy: 0.1729 - loss: 0.3772 - val_accuracy: 0.1770 - val_loss: 0.7110\n",
            "Epoch 302/500\n",
            "\u001b[1m1688/1688\u001b[0m \u001b[32m━━━━━━━━━━━━━━━━━━━━\u001b[0m\u001b[37m\u001b[0m \u001b[1m6s\u001b[0m 2ms/step - accuracy: 0.1669 - loss: 0.3808 - val_accuracy: 0.1798 - val_loss: 0.7146\n",
            "Epoch 303/500\n",
            "\u001b[1m1688/1688\u001b[0m \u001b[32m━━━━━━━━━━━━━━━━━━━━\u001b[0m\u001b[37m\u001b[0m \u001b[1m4s\u001b[0m 2ms/step - accuracy: 0.1725 - loss: 0.3819 - val_accuracy: 0.1777 - val_loss: 0.7114\n",
            "Epoch 304/500\n",
            "\u001b[1m1688/1688\u001b[0m \u001b[32m━━━━━━━━━━━━━━━━━━━━\u001b[0m\u001b[37m\u001b[0m \u001b[1m5s\u001b[0m 2ms/step - accuracy: 0.1725 - loss: 0.3817 - val_accuracy: 0.1817 - val_loss: 0.7326\n",
            "Epoch 305/500\n",
            "\u001b[1m1688/1688\u001b[0m \u001b[32m━━━━━━━━━━━━━━━━━━━━\u001b[0m\u001b[37m\u001b[0m \u001b[1m5s\u001b[0m 2ms/step - accuracy: 0.1691 - loss: 0.3889 - val_accuracy: 0.1787 - val_loss: 0.7111\n",
            "Epoch 306/500\n",
            "\u001b[1m1688/1688\u001b[0m \u001b[32m━━━━━━━━━━━━━━━━━━━━\u001b[0m\u001b[37m\u001b[0m \u001b[1m5s\u001b[0m 2ms/step - accuracy: 0.1725 - loss: 0.3868 - val_accuracy: 0.1783 - val_loss: 0.7154\n",
            "Epoch 307/500\n",
            "\u001b[1m1688/1688\u001b[0m \u001b[32m━━━━━━━━━━━━━━━━━━━━\u001b[0m\u001b[37m\u001b[0m \u001b[1m6s\u001b[0m 2ms/step - accuracy: 0.1714 - loss: 0.3751 - val_accuracy: 0.1790 - val_loss: 0.7144\n",
            "Epoch 308/500\n",
            "\u001b[1m1688/1688\u001b[0m \u001b[32m━━━━━━━━━━━━━━━━━━━━\u001b[0m\u001b[37m\u001b[0m \u001b[1m4s\u001b[0m 2ms/step - accuracy: 0.1731 - loss: 0.3837 - val_accuracy: 0.1810 - val_loss: 0.7043\n",
            "Epoch 309/500\n",
            "\u001b[1m1688/1688\u001b[0m \u001b[32m━━━━━━━━━━━━━━━━━━━━\u001b[0m\u001b[37m\u001b[0m \u001b[1m3s\u001b[0m 2ms/step - accuracy: 0.1739 - loss: 0.3764 - val_accuracy: 0.1787 - val_loss: 0.7085\n",
            "Epoch 310/500\n",
            "\u001b[1m1688/1688\u001b[0m \u001b[32m━━━━━━━━━━━━━━━━━━━━\u001b[0m\u001b[37m\u001b[0m \u001b[1m4s\u001b[0m 2ms/step - accuracy: 0.1705 - loss: 0.3743 - val_accuracy: 0.1745 - val_loss: 0.7134\n",
            "Epoch 311/500\n",
            "\u001b[1m1688/1688\u001b[0m \u001b[32m━━━━━━━━━━━━━━━━━━━━\u001b[0m\u001b[37m\u001b[0m \u001b[1m4s\u001b[0m 2ms/step - accuracy: 0.1721 - loss: 0.3823 - val_accuracy: 0.1682 - val_loss: 0.7133\n",
            "Epoch 312/500\n",
            "\u001b[1m1688/1688\u001b[0m \u001b[32m━━━━━━━━━━━━━━━━━━━━\u001b[0m\u001b[37m\u001b[0m \u001b[1m5s\u001b[0m 2ms/step - accuracy: 0.1714 - loss: 0.3795 - val_accuracy: 0.1670 - val_loss: 0.7151\n",
            "Epoch 313/500\n",
            "\u001b[1m1688/1688\u001b[0m \u001b[32m━━━━━━━━━━━━━━━━━━━━\u001b[0m\u001b[37m\u001b[0m \u001b[1m6s\u001b[0m 2ms/step - accuracy: 0.1702 - loss: 0.3858 - val_accuracy: 0.1783 - val_loss: 0.7128\n",
            "Epoch 314/500\n",
            "\u001b[1m1688/1688\u001b[0m \u001b[32m━━━━━━━━━━━━━━━━━━━━\u001b[0m\u001b[37m\u001b[0m \u001b[1m5s\u001b[0m 2ms/step - accuracy: 0.1726 - loss: 0.3822 - val_accuracy: 0.1813 - val_loss: 0.7103\n",
            "Epoch 315/500\n",
            "\u001b[1m1688/1688\u001b[0m \u001b[32m━━━━━━━━━━━━━━━━━━━━\u001b[0m\u001b[37m\u001b[0m \u001b[1m4s\u001b[0m 2ms/step - accuracy: 0.1722 - loss: 0.3888 - val_accuracy: 0.1783 - val_loss: 0.7103\n",
            "Epoch 316/500\n",
            "\u001b[1m1688/1688\u001b[0m \u001b[32m━━━━━━━━━━━━━━━━━━━━\u001b[0m\u001b[37m\u001b[0m \u001b[1m4s\u001b[0m 2ms/step - accuracy: 0.1692 - loss: 0.3826 - val_accuracy: 0.1702 - val_loss: 0.7209\n",
            "Epoch 317/500\n",
            "\u001b[1m1688/1688\u001b[0m \u001b[32m━━━━━━━━━━━━━━━━━━━━\u001b[0m\u001b[37m\u001b[0m \u001b[1m4s\u001b[0m 2ms/step - accuracy: 0.1732 - loss: 0.3784 - val_accuracy: 0.1762 - val_loss: 0.7162\n",
            "Epoch 318/500\n",
            "\u001b[1m1688/1688\u001b[0m \u001b[32m━━━━━━━━━━━━━━━━━━━━\u001b[0m\u001b[37m\u001b[0m \u001b[1m6s\u001b[0m 2ms/step - accuracy: 0.1718 - loss: 0.3874 - val_accuracy: 0.1747 - val_loss: 0.7221\n",
            "Epoch 319/500\n",
            "\u001b[1m1688/1688\u001b[0m \u001b[32m━━━━━━━━━━━━━━━━━━━━\u001b[0m\u001b[37m\u001b[0m \u001b[1m4s\u001b[0m 2ms/step - accuracy: 0.1664 - loss: 0.3756 - val_accuracy: 0.1603 - val_loss: 0.7205\n",
            "Epoch 320/500\n",
            "\u001b[1m1688/1688\u001b[0m \u001b[32m━━━━━━━━━━━━━━━━━━━━\u001b[0m\u001b[37m\u001b[0m \u001b[1m3s\u001b[0m 2ms/step - accuracy: 0.1709 - loss: 0.3783 - val_accuracy: 0.1768 - val_loss: 0.7105\n",
            "Epoch 321/500\n",
            "\u001b[1m1688/1688\u001b[0m \u001b[32m━━━━━━━━━━━━━━━━━━━━\u001b[0m\u001b[37m\u001b[0m \u001b[1m5s\u001b[0m 2ms/step - accuracy: 0.1698 - loss: 0.3853 - val_accuracy: 0.1760 - val_loss: 0.7236\n",
            "Epoch 322/500\n",
            "\u001b[1m1688/1688\u001b[0m \u001b[32m━━━━━━━━━━━━━━━━━━━━\u001b[0m\u001b[37m\u001b[0m \u001b[1m4s\u001b[0m 2ms/step - accuracy: 0.1749 - loss: 0.3816 - val_accuracy: 0.1753 - val_loss: 0.7144\n",
            "Epoch 323/500\n",
            "\u001b[1m1688/1688\u001b[0m \u001b[32m━━━━━━━━━━━━━━━━━━━━\u001b[0m\u001b[37m\u001b[0m \u001b[1m3s\u001b[0m 2ms/step - accuracy: 0.1722 - loss: 0.3643 - val_accuracy: 0.1735 - val_loss: 0.7096\n",
            "Epoch 324/500\n",
            "\u001b[1m1688/1688\u001b[0m \u001b[32m━━━━━━━━━━━━━━━━━━━━\u001b[0m\u001b[37m\u001b[0m \u001b[1m5s\u001b[0m 2ms/step - accuracy: 0.1714 - loss: 0.3759 - val_accuracy: 0.1660 - val_loss: 0.7149\n",
            "Epoch 325/500\n",
            "\u001b[1m1688/1688\u001b[0m \u001b[32m━━━━━━━━━━━━━━━━━━━━\u001b[0m\u001b[37m\u001b[0m \u001b[1m5s\u001b[0m 2ms/step - accuracy: 0.1685 - loss: 0.3775 - val_accuracy: 0.1720 - val_loss: 0.7211\n",
            "Epoch 326/500\n",
            "\u001b[1m1688/1688\u001b[0m \u001b[32m━━━━━━━━━━━━━━━━━━━━\u001b[0m\u001b[37m\u001b[0m \u001b[1m5s\u001b[0m 2ms/step - accuracy: 0.1703 - loss: 0.3848 - val_accuracy: 0.1590 - val_loss: 0.7288\n",
            "Epoch 327/500\n",
            "\u001b[1m1688/1688\u001b[0m \u001b[32m━━━━━━━━━━━━━━━━━━━━\u001b[0m\u001b[37m\u001b[0m \u001b[1m4s\u001b[0m 2ms/step - accuracy: 0.1690 - loss: 0.3707 - val_accuracy: 0.1865 - val_loss: 0.7157\n",
            "Epoch 328/500\n",
            "\u001b[1m1688/1688\u001b[0m \u001b[32m━━━━━━━━━━━━━━━━━━━━\u001b[0m\u001b[37m\u001b[0m \u001b[1m3s\u001b[0m 2ms/step - accuracy: 0.1718 - loss: 0.3799 - val_accuracy: 0.1685 - val_loss: 0.7221\n",
            "Epoch 329/500\n",
            "\u001b[1m1688/1688\u001b[0m \u001b[32m━━━━━━━━━━━━━━━━━━━━\u001b[0m\u001b[37m\u001b[0m \u001b[1m5s\u001b[0m 2ms/step - accuracy: 0.1718 - loss: 0.3779 - val_accuracy: 0.1795 - val_loss: 0.7096\n",
            "Epoch 330/500\n",
            "\u001b[1m1688/1688\u001b[0m \u001b[32m━━━━━━━━━━━━━━━━━━━━\u001b[0m\u001b[37m\u001b[0m \u001b[1m6s\u001b[0m 2ms/step - accuracy: 0.1742 - loss: 0.3711 - val_accuracy: 0.1743 - val_loss: 0.7209\n",
            "Epoch 331/500\n",
            "\u001b[1m1688/1688\u001b[0m \u001b[32m━━━━━━━━━━━━━━━━━━━━\u001b[0m\u001b[37m\u001b[0m \u001b[1m3s\u001b[0m 2ms/step - accuracy: 0.1739 - loss: 0.3770 - val_accuracy: 0.1628 - val_loss: 0.7202\n",
            "Epoch 332/500\n",
            "\u001b[1m1688/1688\u001b[0m \u001b[32m━━━━━━━━━━━━━━━━━━━━\u001b[0m\u001b[37m\u001b[0m \u001b[1m5s\u001b[0m 2ms/step - accuracy: 0.1714 - loss: 0.3771 - val_accuracy: 0.1775 - val_loss: 0.7140\n",
            "Epoch 333/500\n",
            "\u001b[1m1688/1688\u001b[0m \u001b[32m━━━━━━━━━━━━━━━━━━━━\u001b[0m\u001b[37m\u001b[0m \u001b[1m4s\u001b[0m 3ms/step - accuracy: 0.1727 - loss: 0.3907 - val_accuracy: 0.1768 - val_loss: 0.7070\n",
            "Epoch 334/500\n",
            "\u001b[1m1688/1688\u001b[0m \u001b[32m━━━━━━━━━━━━━━━━━━━━\u001b[0m\u001b[37m\u001b[0m \u001b[1m3s\u001b[0m 2ms/step - accuracy: 0.1713 - loss: 0.3783 - val_accuracy: 0.1797 - val_loss: 0.7211\n",
            "Epoch 335/500\n",
            "\u001b[1m1688/1688\u001b[0m \u001b[32m━━━━━━━━━━━━━━━━━━━━\u001b[0m\u001b[37m\u001b[0m \u001b[1m5s\u001b[0m 2ms/step - accuracy: 0.1709 - loss: 0.3765 - val_accuracy: 0.1760 - val_loss: 0.7058\n",
            "Epoch 336/500\n",
            "\u001b[1m1688/1688\u001b[0m \u001b[32m━━━━━━━━━━━━━━━━━━━━\u001b[0m\u001b[37m\u001b[0m \u001b[1m4s\u001b[0m 3ms/step - accuracy: 0.1716 - loss: 0.3877 - val_accuracy: 0.1780 - val_loss: 0.7160\n",
            "Epoch 337/500\n",
            "\u001b[1m1688/1688\u001b[0m \u001b[32m━━━━━━━━━━━━━━━━━━━━\u001b[0m\u001b[37m\u001b[0m \u001b[1m4s\u001b[0m 2ms/step - accuracy: 0.1719 - loss: 0.3839 - val_accuracy: 0.1712 - val_loss: 0.7262\n",
            "Epoch 338/500\n",
            "\u001b[1m1688/1688\u001b[0m \u001b[32m━━━━━━━━━━━━━━━━━━━━\u001b[0m\u001b[37m\u001b[0m \u001b[1m3s\u001b[0m 2ms/step - accuracy: 0.1695 - loss: 0.3841 - val_accuracy: 0.1700 - val_loss: 0.7190\n",
            "Epoch 339/500\n",
            "\u001b[1m1688/1688\u001b[0m \u001b[32m━━━━━━━━━━━━━━━━━━━━\u001b[0m\u001b[37m\u001b[0m \u001b[1m6s\u001b[0m 3ms/step - accuracy: 0.1718 - loss: 0.3741 - val_accuracy: 0.1775 - val_loss: 0.7119\n",
            "Epoch 340/500\n",
            "\u001b[1m1688/1688\u001b[0m \u001b[32m━━━━━━━━━━━━━━━━━━━━\u001b[0m\u001b[37m\u001b[0m \u001b[1m3s\u001b[0m 2ms/step - accuracy: 0.1732 - loss: 0.3717 - val_accuracy: 0.1772 - val_loss: 0.7073\n",
            "Epoch 341/500\n",
            "\u001b[1m1688/1688\u001b[0m \u001b[32m━━━━━━━━━━━━━━━━━━━━\u001b[0m\u001b[37m\u001b[0m \u001b[1m5s\u001b[0m 2ms/step - accuracy: 0.1724 - loss: 0.3758 - val_accuracy: 0.1830 - val_loss: 0.7176\n",
            "Epoch 342/500\n",
            "\u001b[1m1688/1688\u001b[0m \u001b[32m━━━━━━━━━━━━━━━━━━━━\u001b[0m\u001b[37m\u001b[0m \u001b[1m6s\u001b[0m 2ms/step - accuracy: 0.1710 - loss: 0.3776 - val_accuracy: 0.1775 - val_loss: 0.7113\n",
            "Epoch 343/500\n",
            "\u001b[1m1688/1688\u001b[0m \u001b[32m━━━━━━━━━━━━━━━━━━━━\u001b[0m\u001b[37m\u001b[0m \u001b[1m3s\u001b[0m 2ms/step - accuracy: 0.1718 - loss: 0.3712 - val_accuracy: 0.1752 - val_loss: 0.7107\n",
            "Epoch 344/500\n",
            "\u001b[1m1688/1688\u001b[0m \u001b[32m━━━━━━━━━━━━━━━━━━━━\u001b[0m\u001b[37m\u001b[0m \u001b[1m5s\u001b[0m 2ms/step - accuracy: 0.1709 - loss: 0.3829 - val_accuracy: 0.1750 - val_loss: 0.7207\n",
            "Epoch 345/500\n",
            "\u001b[1m1688/1688\u001b[0m \u001b[32m━━━━━━━━━━━━━━━━━━━━\u001b[0m\u001b[37m\u001b[0m \u001b[1m5s\u001b[0m 2ms/step - accuracy: 0.1698 - loss: 0.3745 - val_accuracy: 0.1770 - val_loss: 0.7170\n",
            "Epoch 346/500\n",
            "\u001b[1m1688/1688\u001b[0m \u001b[32m━━━━━━━━━━━━━━━━━━━━\u001b[0m\u001b[37m\u001b[0m \u001b[1m5s\u001b[0m 2ms/step - accuracy: 0.1705 - loss: 0.3813 - val_accuracy: 0.1743 - val_loss: 0.7248\n",
            "Epoch 347/500\n",
            "\u001b[1m1688/1688\u001b[0m \u001b[32m━━━━━━━━━━━━━━━━━━━━\u001b[0m\u001b[37m\u001b[0m \u001b[1m4s\u001b[0m 2ms/step - accuracy: 0.1722 - loss: 0.3755 - val_accuracy: 0.1735 - val_loss: 0.7157\n",
            "Epoch 348/500\n",
            "\u001b[1m1688/1688\u001b[0m \u001b[32m━━━━━━━━━━━━━━━━━━━━\u001b[0m\u001b[37m\u001b[0m \u001b[1m4s\u001b[0m 2ms/step - accuracy: 0.1707 - loss: 0.3802 - val_accuracy: 0.1823 - val_loss: 0.7121\n",
            "Epoch 349/500\n",
            "\u001b[1m1688/1688\u001b[0m \u001b[32m━━━━━━━━━━━━━━━━━━━━\u001b[0m\u001b[37m\u001b[0m \u001b[1m5s\u001b[0m 2ms/step - accuracy: 0.1698 - loss: 0.3773 - val_accuracy: 0.1770 - val_loss: 0.7183\n",
            "Epoch 350/500\n",
            "\u001b[1m1688/1688\u001b[0m \u001b[32m━━━━━━━━━━━━━━━━━━━━\u001b[0m\u001b[37m\u001b[0m \u001b[1m6s\u001b[0m 2ms/step - accuracy: 0.1721 - loss: 0.3828 - val_accuracy: 0.1778 - val_loss: 0.7126\n",
            "Epoch 351/500\n",
            "\u001b[1m1688/1688\u001b[0m \u001b[32m━━━━━━━━━━━━━━━━━━━━\u001b[0m\u001b[37m\u001b[0m \u001b[1m4s\u001b[0m 2ms/step - accuracy: 0.1718 - loss: 0.3787 - val_accuracy: 0.1713 - val_loss: 0.7248\n",
            "Epoch 352/500\n",
            "\u001b[1m1688/1688\u001b[0m \u001b[32m━━━━━━━━━━━━━━━━━━━━\u001b[0m\u001b[37m\u001b[0m \u001b[1m3s\u001b[0m 2ms/step - accuracy: 0.1711 - loss: 0.3794 - val_accuracy: 0.1612 - val_loss: 0.7394\n",
            "Epoch 353/500\n",
            "\u001b[1m1688/1688\u001b[0m \u001b[32m━━━━━━━━━━━━━━━━━━━━\u001b[0m\u001b[37m\u001b[0m \u001b[1m4s\u001b[0m 2ms/step - accuracy: 0.1715 - loss: 0.3794 - val_accuracy: 0.1680 - val_loss: 0.7220\n",
            "Epoch 354/500\n",
            "\u001b[1m1688/1688\u001b[0m \u001b[32m━━━━━━━━━━━━━━━━━━━━\u001b[0m\u001b[37m\u001b[0m \u001b[1m5s\u001b[0m 2ms/step - accuracy: 0.1726 - loss: 0.3797 - val_accuracy: 0.1690 - val_loss: 0.7271\n",
            "Epoch 355/500\n",
            "\u001b[1m 266/1688\u001b[0m \u001b[32m━━━\u001b[0m\u001b[37m━━━━━━━━━━━━━━━━━\u001b[0m \u001b[1m2s\u001b[0m 2ms/step - accuracy: 0.1614 - loss: 0.3775"
          ]
        }
      ]
    },
    {
      "cell_type": "markdown",
      "source": [
        "the training_history object contains the loss curves: training loss as `training_history.history[\"loss\"]` and validation loss as `training_history.history[\"val_loss\"]` (note the validation_split argument to model.fit set to 10%).\n",
        "\n",
        "Show the training and validation losses and comment: is the model overfitting? at what epoch did it start to overfit?"
      ],
      "metadata": {
        "id": "ztQ4wTXeoykj"
      }
    },
    {
      "cell_type": "code",
      "source": [
        "plt.plot(training_history.history[\"loss\"])\n",
        "plt.plot(training_history.history[\"val_loss\"])\n",
        "plt.xlabel(\"Epoch\")\n",
        "plt.ylabel(\"Loss\")\n",
        "plt.yscale('log') #use log scale for the y axis\n"
      ],
      "metadata": {
        "id": "c80Nmkw7IhXx",
        "colab": {
          "base_uri": "https://localhost:8080/",
          "height": 216
        },
        "outputId": "d45f776d-3147-4108-87cf-0ff44afa3542"
      },
      "execution_count": 18,
      "outputs": [
        {
          "output_type": "error",
          "ename": "NameError",
          "evalue": "name 'training_history' is not defined",
          "traceback": [
            "\u001b[0;31m---------------------------------------------------------------------------\u001b[0m",
            "\u001b[0;31mNameError\u001b[0m                                 Traceback (most recent call last)",
            "\u001b[0;32m<ipython-input-18-ecd4caddaae8>\u001b[0m in \u001b[0;36m<cell line: 1>\u001b[0;34m()\u001b[0m\n\u001b[0;32m----> 1\u001b[0;31m \u001b[0mplt\u001b[0m\u001b[0;34m.\u001b[0m\u001b[0mplot\u001b[0m\u001b[0;34m(\u001b[0m\u001b[0mtraining_history\u001b[0m\u001b[0;34m.\u001b[0m\u001b[0mhistory\u001b[0m\u001b[0;34m[\u001b[0m\u001b[0;34m\"loss\"\u001b[0m\u001b[0;34m]\u001b[0m\u001b[0;34m)\u001b[0m\u001b[0;34m\u001b[0m\u001b[0;34m\u001b[0m\u001b[0m\n\u001b[0m\u001b[1;32m      2\u001b[0m \u001b[0mplt\u001b[0m\u001b[0;34m.\u001b[0m\u001b[0mplot\u001b[0m\u001b[0;34m(\u001b[0m\u001b[0mtraining_history\u001b[0m\u001b[0;34m.\u001b[0m\u001b[0mhistory\u001b[0m\u001b[0;34m[\u001b[0m\u001b[0;34m\"val_loss\"\u001b[0m\u001b[0;34m]\u001b[0m\u001b[0;34m)\u001b[0m\u001b[0;34m\u001b[0m\u001b[0;34m\u001b[0m\u001b[0m\n\u001b[1;32m      3\u001b[0m \u001b[0mplt\u001b[0m\u001b[0;34m.\u001b[0m\u001b[0mxlabel\u001b[0m\u001b[0;34m(\u001b[0m\u001b[0;34m\"Epoch\"\u001b[0m\u001b[0;34m)\u001b[0m\u001b[0;34m\u001b[0m\u001b[0;34m\u001b[0m\u001b[0m\n\u001b[1;32m      4\u001b[0m \u001b[0mplt\u001b[0m\u001b[0;34m.\u001b[0m\u001b[0mylabel\u001b[0m\u001b[0;34m(\u001b[0m\u001b[0;34m\"Loss\"\u001b[0m\u001b[0;34m)\u001b[0m\u001b[0;34m\u001b[0m\u001b[0;34m\u001b[0m\u001b[0m\n\u001b[1;32m      5\u001b[0m \u001b[0mplt\u001b[0m\u001b[0;34m.\u001b[0m\u001b[0myscale\u001b[0m\u001b[0;34m(\u001b[0m\u001b[0;34m'log'\u001b[0m\u001b[0;34m)\u001b[0m \u001b[0;31m#use log scale for the y axis\u001b[0m\u001b[0;34m\u001b[0m\u001b[0;34m\u001b[0m\u001b[0m\n",
            "\u001b[0;31mNameError\u001b[0m: name 'training_history' is not defined"
          ]
        }
      ]
    },
    {
      "cell_type": "code",
      "source": [
        "# is this model overfitting? how woudl you find out? how would you fix it?\n",
        "\n"
      ],
      "metadata": {
        "id": "NFwv_bNl9QEF"
      },
      "execution_count": null,
      "outputs": []
    },
    {
      "cell_type": "markdown",
      "source": [
        "Given that the validation loss stops getting better and begins to rise while the training loss keeps getting less, the model is indeed overfitting. This shows that the model is ineffective at generalizing to new data since it is learning to suit the training set too closely.\n",
        "\n",
        "\n",
        "A way I would fix this is by reducing the amount of layers so that the data would be easier to memorize."
      ],
      "metadata": {
        "id": "LXbF23iDyXjb"
      }
    },
    {
      "cell_type": "code",
      "source": [
        "#what is the accuracy of the model? use model.evaluat to assess it\n",
        "\n",
        "model.evaluate(x_test, y_test)"
      ],
      "metadata": {
        "id": "zXe-573CJ9Cd"
      },
      "execution_count": null,
      "outputs": []
    },
    {
      "cell_type": "code",
      "source": [
        "# show the first 5 data points and corresponding predictions\n",
        "\n",
        "print(model.predict(x_test[:5])"
      ],
      "metadata": {
        "id": "sfg-VNAtI3Be"
      },
      "execution_count": null,
      "outputs": []
    },
    {
      "cell_type": "code",
      "source": [
        "y_test[:5]"
      ],
      "metadata": {
        "id": "r6kcQLODKJNx"
      },
      "execution_count": null,
      "outputs": []
    },
    {
      "cell_type": "markdown",
      "source": [
        "# Build a ANN to solve the problem as a multiclass classification\n",
        "\n",
        "see slides for the apprioriate choices\n",
        "- use dense layers\n",
        "- choose the right number of neurons in output to solve a multiclass classification problem\n",
        "- choose the right activation function on the last layer for a multiclass classification problem\n",
        "- choose the right loss function for a multiclass classification problem"
      ],
      "metadata": {
        "id": "KM6IbzFFp3vT"
      }
    },
    {
      "cell_type": "code",
      "source": [
        "# modify the architecture hyperparametrs\n",
        "# set the last layer to a 10 nerons dense layer and set the softmax as the activation function for the last layer\n",
        "prob_model = tf.keras.models.Sequential()\n",
        "# add 1 dense layer with 128 neurons and relu activation function\n",
        "# add 1 dropout layers dropping 20% of the connections\n",
        "# add 1 dense layer at the end, how many neurons?\n",
        "# your code goes here\n",
        "prob_model.add(tf.keras.layers.Flatten(input_shape=(28,28)))\n",
        "prob_model.add(tf.keras.layers.Dense(128, activation='relu'))\n",
        "prob_model.add(tf.keras.layers.Dropout(0.2))\n",
        "prob_model.add(tf.keras.layers.Dense(10, activation='softmax'))\n",
        "prob_model.summary()\n",
        "prob_model.summary()"
      ],
      "metadata": {
        "id": "sKwIt-WbKPy6"
      },
      "execution_count": null,
      "outputs": []
    },
    {
      "cell_type": "code",
      "source": [
        "tf.keras.utils.plot_model(model)"
      ],
      "metadata": {
        "id": "UwzWCeHR90lq"
      },
      "execution_count": null,
      "outputs": []
    },
    {
      "cell_type": "code",
      "source": [
        "#set the loss to be approprpate for the classification, the optimizer to Adam and compile and fit as before\n",
        "# NOTE: you can either use the Sparse Categorical Loss and leave the labels as they are or use the Categorical Loss but modify the labels to be one-hot-encoded (see slides from class on trees!)\n",
        "loss = tf.keras.losses.SparseCategoricalCrossentropy()\n",
        "optimizer =tf.keras.optimizers.Adam()\n",
        "prob_model.compile = model.compile(optimizer = optimizer, loss = loss,\n",
        "              metrics=['accuracy'])\n",
        "prob_training_history = model3.fit(x_train, y_train, epochs=500, validation_split=0.1)"
      ],
      "metadata": {
        "id": "r7ye1w0eK3Zd"
      },
      "execution_count": null,
      "outputs": []
    },
    {
      "cell_type": "code",
      "source": [
        "#what is the accuracy of the model? use model.evaluat to assess it\n",
        "\n",
        "model.evaluate(x_test, y_test)"
      ],
      "metadata": {
        "id": "Hene5EG7Lo8Z"
      },
      "execution_count": null,
      "outputs": []
    },
    {
      "cell_type": "code",
      "source": [
        "# show the first 10 data points and corresponding predictions\n",
        "\n",
        "result = prob_model.predict(x_test[:10])"
      ],
      "metadata": {
        "id": "WPu8ydTFMWTn"
      },
      "execution_count": null,
      "outputs": []
    },
    {
      "cell_type": "code",
      "source": [
        "#show the loss curves and comment\n",
        "plt.plot(prob_training_history.history[\"loss\"])\n",
        "plt.plot(prob_training_history.history[\"val_loss\"])\n",
        "plt.xlabel(\"epochs\")\n",
        "plt.ylabel(\"loss\")\n",
        "plt.yscale(\"log\") #use log scale for the y axis\n"
      ],
      "metadata": {
        "id": "yTGZvFBnMcsm"
      },
      "execution_count": null,
      "outputs": []
    },
    {
      "cell_type": "markdown",
      "source": [
        "The loss curves for training and validation are shown in this image. At first, both loses slowly go down, which means that learning is working. However, the validity loss starts to change and sometimes goes up, which is a sign of overfitting starting to happen. This behavior shows that the model is still learning from the training data, but it is getting worse at applying what it has learned to new data.\n",
        "\n",
        "\n"
      ],
      "metadata": {
        "id": "koEpYyoX547r"
      }
    },
    {
      "cell_type": "markdown",
      "source": [
        "# Build a CNN (convolutional neural network) to solve the problem as a multiclass classification\n",
        "\n",
        "- you do not need the Flatten() layer anymore, the input size is not 728 but (28,28)\n",
        "- use Conv2D layers and MaxPool2D layers alternating them appropriately\n",
        "- use relu activation functions for the convolutional layers\n",
        "- add a dense layer at the end for the prediction\n",
        "- choose the right number of neurons in output to solve a multiclass classification problem\n",
        "- choose the right activation function on the last layer for a multiclass classification problem\n",
        "- choose the right loss function for a multiclass classification problem"
      ],
      "metadata": {
        "id": "k-252KDZLzIy"
      }
    },
    {
      "cell_type": "code",
      "source": [
        "YOUR CODE GOES HERE\n"
      ],
      "metadata": {
        "id": "GwR59UszMQBi"
      },
      "execution_count": null,
      "outputs": []
    },
    {
      "cell_type": "code",
      "source": [
        "#set the loss to be approprpate for the classification, the optimizer to Adam and compile and fit as before\n",
        "# NOTE: you can either use the Sparse Categorical Loss and leave the labels as they are or use the Categorical Loss but modify the labels to be one-hot-encoded (see slides from class on trees!)\n",
        "loss = ...\n",
        "optimizer = ...\n",
        "prob_model.compile...\n",
        "prob_training_history = ..."
      ],
      "metadata": {
        "id": "NtuT2mW5r5FY"
      },
      "execution_count": null,
      "outputs": []
    },
    {
      "cell_type": "code",
      "source": [
        "#what is the accuracy of the model? use model.evaluat to assess it\n",
        "\n",
        "model.evaluate(x_test, y_test)"
      ],
      "metadata": {
        "id": "tmhi2mdGr5_X"
      },
      "execution_count": null,
      "outputs": []
    },
    {
      "cell_type": "code",
      "source": [
        "# show the first 10 data points and corresponding predictions\n",
        "\n",
        "result = prob_model.predict(x_test[:10])"
      ],
      "metadata": {
        "id": "MwHC9Ai2r-ox"
      },
      "execution_count": null,
      "outputs": []
    },
    {
      "cell_type": "code",
      "source": [
        "#show the loss curves and comment\n",
        "plt.plot(.....\n",
        "plt.plot(.....\n",
        "plt.xlabel(....\n",
        "plt.ylabel(...\n",
        "plt.yscale('log') #use log scale for the y axis\n"
      ],
      "metadata": {
        "id": "9QhnqILIr72Z"
      },
      "execution_count": null,
      "outputs": []
    }
  ]
}