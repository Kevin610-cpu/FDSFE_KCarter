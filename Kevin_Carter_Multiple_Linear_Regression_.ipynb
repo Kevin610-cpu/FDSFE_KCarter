{
  "nbformat": 4,
  "nbformat_minor": 0,
  "metadata": {
    "colab": {
      "provenance": [],
      "include_colab_link": true
    },
    "kernelspec": {
      "name": "python3",
      "display_name": "Python 3"
    },
    "language_info": {
      "name": "python"
    }
  },
  "cells": [
    {
      "cell_type": "markdown",
      "metadata": {
        "id": "view-in-github",
        "colab_type": "text"
      },
      "source": [
        "<a href=\"https://colab.research.google.com/github/Kevin610-cpu/FDSFE_KCarter/blob/main/Kevin_Carter_Multiple_Linear_Regression_.ipynb\" target=\"_parent\"><img src=\"https://colab.research.google.com/assets/colab-badge.svg\" alt=\"Open In Colab\"/></a>"
      ]
    },
    {
      "cell_type": "markdown",
      "source": [
        "# **Multiple Linear Regression**\n",
        "\n",
        "---\n",
        "\n",
        "###Data\n",
        "\n",
        "The data used in this assignment contains a cleaned and curated version of the market real estate valuations collected from Sindian Dist., New Taipei City, Taiwan, by Prof. I-Cheng Yeh, Department of Civil Engineering, Tamkang University, Taiwan.\n",
        "\n",
        "The features in the data are the following:\n",
        "\n",
        "* ```transaction_date```: the transaction date (for example, 2013.250=2013 March, 2013.500=2013 June, etc.)\n",
        "* ```house_age```: the house age (unit: year)\n",
        "* ```distance_nearest_MRT_station```: the distance to the nearest MRT station (unit: meter)\n",
        "* ```convenience_stores```: the number of convenience stores in the living circle on foot (integer)\n",
        "\n",
        "The target is:\n",
        "* ```house_price_unit_area```house price of unit area (10000 New Taiwan Dollar/Ping, where Ping is a local unit, 1 Ping = 3.3 meter squared)\n",
        "\n",
        "---\n",
        "\n",
        "## HW instructions:\n",
        "\n",
        "Similar to what was done in class, your task is to do the following:\n",
        "1.   create a simple regression model that utilizes only one feature: the log10 of ```distance_nearest_MRT_station``` to predict the house price/unit area, and find the model's metrics ($R^2$ and Adjusted-$R^2$), as well as the the coeffient (slope) of the line.\n",
        "\n",
        "2.   create a multiple regression model that utilizes all features in the dataset to predict the house price/unit area, and find the model's metrics ($R^2$ and Adjusted-$R^2$), as well as the the coeffient for each variable.\n",
        "\n",
        "--"
      ],
      "metadata": {
        "id": "kBKIrBnIlHg8"
      }
    },
    {
      "cell_type": "code",
      "execution_count": 3,
      "metadata": {
        "id": "ATylBaqD5ljg"
      },
      "outputs": [],
      "source": [
        "# -- import libraries here\n",
        "import pandas as pd\n",
        "import numpy as np\n",
        "import matplotlib.pyplot as plt\n",
        "import seaborn as sns\n",
        "import statsmodels.api as sm"
      ]
    },
    {
      "cell_type": "markdown",
      "source": [
        "Read the data file from the class repo which can be found in the folder \"data\" and is called \"Real_estate.csv\""
      ],
      "metadata": {
        "id": "S4YEe0nUgWG1"
      }
    },
    {
      "cell_type": "code",
      "source": [
        "\n",
        "df = pd.read_csv('https://raw.githubusercontent.com/fedhere/FDSFE_FBianco/refs/heads/main/data/Real_estate.csv')"
      ],
      "metadata": {
        "id": "7vu7tgc3CrxL"
      },
      "execution_count": 13,
      "outputs": []
    },
    {
      "cell_type": "markdown",
      "source": [
        "## Task 1: simple linear regression\n",
        "\n",
        "create a simple regression model that utilizes only one feature: the log10 of ```distance_nearest_MRT_station``` to predict the house price/unit area, and find the model's metrics ($R^2$ and Adjusted-$R^2$), as well as the the coeffient (slope) of the line.\n",
        "\n",
        "---\n"
      ],
      "metadata": {
        "id": "tP10cnl7UBJg"
      }
    },
    {
      "cell_type": "markdown",
      "source": [
        "Calculate the log10 of the ```distance_nearest_MRT_station``` column and add it as a new column to the data frame"
      ],
      "metadata": {
        "id": "YGx9scRQU8C0"
      }
    },
    {
      "cell_type": "code",
      "source": [
        "df['log10_distance_nearest_MRT_station'] = np.log10(df['distance_nearest_MRT_station'])\n"
      ],
      "metadata": {
        "id": "p4cNG_YBCr0M"
      },
      "execution_count": 19,
      "outputs": []
    },
    {
      "cell_type": "markdown",
      "source": [
        "Standardize your feature and target data (setting their mean to 0 and standard deviation to 1)"
      ],
      "metadata": {
        "id": "RK2zIVwAVSlx"
      }
    },
    {
      "cell_type": "code",
      "source": [
        "from sklearn.preprocessing import StandardScaler\n",
        "scaler = StandardScaler()\n",
        "df['log10_distance_nearest_MRT_station_std'] = scaler.fit_transform(df[['log10_distance_nearest_MRT_station']])\n"
      ],
      "metadata": {
        "id": "rryGybFQFDja"
      },
      "execution_count": 12,
      "outputs": []
    },
    {
      "cell_type": "markdown",
      "source": [
        "Using the code library of your choice, fit a linear regression model to the data"
      ],
      "metadata": {
        "id": "RYDBgtWMVlSg"
      }
    },
    {
      "cell_type": "code",
      "source": [
        "# -- your code here\n",
        "x = df['log10_distance_nearest_MRT_station_std']\n",
        "y = df['house_price_unit_area']\n",
        "x = sm.add_constant(x)\n",
        "model = sm.OLS(y, x).fit()"
      ],
      "metadata": {
        "id": "p_x1r6JYVksb"
      },
      "execution_count": 7,
      "outputs": []
    },
    {
      "cell_type": "markdown",
      "source": [
        "Print both the $R^2$ and Adjusted-$R^2$ of this model\n",
        "\n",
        "(+1 bonus point for using the `.format()` method in `print` to show the two values and round them to 3 decimal places)"
      ],
      "metadata": {
        "id": "k_hktZmTVs6m"
      }
    },
    {
      "cell_type": "code",
      "source": [
        "\n",
        "print(\"R-squared: {:.3f}\".format(model.rsquared))\n",
        "print(\"Adjusted R-squared: {:.3f}\".format(model.rsquared_adj))"
      ],
      "metadata": {
        "colab": {
          "base_uri": "https://localhost:8080/"
        },
        "id": "WIWsXaPKVdTr",
        "outputId": "c7b52b82-ddc8-4d82-87ec-7ad936ea18eb"
      },
      "execution_count": 10,
      "outputs": [
        {
          "output_type": "stream",
          "name": "stdout",
          "text": [
            "R-squared: 0.539\n",
            "Adjusted R-squared: 0.538\n"
          ]
        }
      ]
    },
    {
      "cell_type": "markdown",
      "source": [
        "Print the coefficient (slope) of the line"
      ],
      "metadata": {
        "id": "6spcmbZ-XQhs"
      }
    },
    {
      "cell_type": "code",
      "source": [
        "\n",
        "print(\"Coefficient: {:.3f}\".format(model.params[1]))"
      ],
      "metadata": {
        "colab": {
          "base_uri": "https://localhost:8080/"
        },
        "id": "aCKHU3o-VdjC",
        "outputId": "c354d848-7fdc-48be-bfd7-d319dce24cdf"
      },
      "execution_count": 11,
      "outputs": [
        {
          "output_type": "stream",
          "name": "stdout",
          "text": [
            "Coefficient: -9.980\n"
          ]
        },
        {
          "output_type": "stream",
          "name": "stderr",
          "text": [
            "<ipython-input-11-4bfe55acb228>:1: FutureWarning: Series.__getitem__ treating keys as positions is deprecated. In a future version, integer keys will always be treated as labels (consistent with DataFrame behavior). To access a value by position, use `ser.iloc[pos]`\n",
            "  print(\"Coefficient: {:.3f}\".format(model.params[1]))\n"
          ]
        }
      ]
    },
    {
      "cell_type": "markdown",
      "source": [
        "Are you able to explain why it says that code at the end of the output? I am trying to understand it."
      ],
      "metadata": {
        "id": "4x4bnoP7Xtd4"
      }
    },
    {
      "cell_type": "markdown",
      "source": [
        "From looking at the coefficient, what can you say about the relationship between the feature (the distance to the nearest MRT station) and the target (the house price/unit area)?"
      ],
      "metadata": {
        "id": "EYs3arrqePbn"
      }
    },
    {
      "cell_type": "markdown",
      "source": [
        "They are strongly negatively correlated."
      ],
      "metadata": {
        "id": "gBsZRNV3ePV5"
      }
    },
    {
      "cell_type": "markdown",
      "source": [
        "Plot the actual vs. model predicted values for the house price/unit area for all log10(distance to MRT station) values in the data\n",
        "\n",
        "> Add blockquote\n",
        "\n"
      ],
      "metadata": {
        "id": "MHqiI52lXvSr"
      }
    },
    {
      "cell_type": "code",
      "source": [
        "\n",
        "y_pred = model.predict(x)\n",
        "plt.scatter(x.iloc[:, 1], y)\n",
        "plt.plot(x.iloc[:, 1], y_pred, color='red')"
      ],
      "metadata": {
        "colab": {
          "base_uri": "https://localhost:8080/",
          "height": 448
        },
        "id": "9Gblf2UCVdo4",
        "outputId": "9d1da414-982b-4b38-a8b6-37b92d96111f"
      },
      "execution_count": 15,
      "outputs": [
        {
          "output_type": "execute_result",
          "data": {
            "text/plain": [
              "[<matplotlib.lines.Line2D at 0x7c9836869d80>]"
            ]
          },
          "metadata": {},
          "execution_count": 15
        },
        {
          "output_type": "display_data",
          "data": {
            "text/plain": [
              "<Figure size 640x480 with 1 Axes>"
            ],
            "image/png": "[encoded data removed]"
          },
          "metadata": {}
        }
      ]
    },
    {
      "cell_type": "markdown",
      "source": [
        "## Task 2: multiple linear regression (all variables)\n",
        "\n",
        "create a multiple regression model that utilizes all features to predict the house price/unit area, and find the model's metrics ($R^2$ and Adjusted-$R^2$), as well as the the coeffient for each variable.\n",
        "\n",
        "---\n",
        "\n",
        "a univariate linear regression model looks like $y = a_0 + a_1 x$\n",
        "\n",
        "a multivariate linear regression model with 3 exogenous variable looks like $y = a_0 + a_1 x_1 + a_2 x_2 + a_3 x_3$\n",
        "\n",
        "The easiest way to implement it is to use `statsmodels.formula.api` which allows to write out the formula you want to use for the regression in more or less plain English. We did it in the linear regression notebook https://github.com/fedhere/FDSFE_FBianco/blob/main/HW5/linear_regression_in_detail.ipynb\n",
        "\n",
        "The univariate linear model we built in that notebook was\n",
        "\n",
        "```\n",
        "import statsmodels.formula.api as smf\n",
        "     \n",
        "mod = smf.ols(formula='wspeed ~ population', data=df)\n",
        "res = mod.fit()\n",
        "res.summary()\n",
        "```\n",
        "\n",
        "y = ax + b => `formula='wspeed ~ population'`\n",
        "\n",
        "The intercept (b) is implied in the use of `~`\n",
        "`x` in this case was population and `y` wspeed\n",
        "\n",
        "Your formula will look like\n",
        "`formula='y ~ x1 + x2 + x3 + x4'` with the approproate feature names"
      ],
      "metadata": {
        "id": "iFAO4QfCbgGN"
      }
    },
    {
      "cell_type": "markdown",
      "source": [
        "Make sure all your features and target columns are standardized, and that you are using all the features in the data frame (also make sure to use ```log10(distance_nearest_MRT_station)``` rather than ```distance_nearest_MRT_station``` as a feature)"
      ],
      "metadata": {
        "id": "PT2-ClOFcXjQ"
      }
    },
    {
      "cell_type": "code",
      "source": [
        "\n",
        "df['log10_distance_nearest_MRT_station_std'] = scaler.fit_transform(df[['log10_distance_nearest_MRT_station']])\n"
      ],
      "metadata": {
        "id": "qc0keSNZZ4Zu"
      },
      "execution_count": 20,
      "outputs": []
    },
    {
      "cell_type": "markdown",
      "source": [
        "Using the code library of your choice, fit a multiple linear regression model to the data"
      ],
      "metadata": {
        "id": "sSYvBMkXcxjx"
      }
    },
    {
      "cell_type": "code",
      "source": [
        "x = df[['house_age', 'log10_distance_nearest_MRT_station_std', 'convenience_stores']]\n",
        "x = df['house_price_unit_area']\n",
        "x = sm.add_constant(x)\n",
        "model = sm.OLS(y, x).fit()"
      ],
      "metadata": {
        "id": "_EPrB-FdZ4cE"
      },
      "execution_count": 24,
      "outputs": []
    },
    {
      "cell_type": "markdown",
      "source": [
        "Print the coefficients of each of the features"
      ],
      "metadata": {
        "id": "tlAbv9Gpc5Vz"
      }
    },
    {
      "cell_type": "code",
      "source": [
        "\n",
        "print(model.params)"
      ],
      "metadata": {
        "colab": {
          "base_uri": "https://localhost:8080/"
        },
        "id": "IQtGO6lcZ4eF",
        "outputId": "105b2215-f064-4af4-85bf-caf840244900"
      },
      "execution_count": 26,
      "outputs": [
        {
          "output_type": "stream",
          "name": "stdout",
          "text": [
            "const                   -9.436896e-15\n",
            "house_price_unit_area    1.000000e+00\n",
            "dtype: float64\n"
          ]
        }
      ]
    },
    {
      "cell_type": "markdown",
      "source": [
        "What can you claim about the relative correlation and influence of each feature on the prediction of the target variable?"
      ],
      "metadata": {
        "id": "d5doqy3rdHLW"
      }
    },
    {
      "cell_type": "markdown",
      "source": [
        " The relative correlation and the predicted correlation are near each other."
      ],
      "metadata": {
        "id": "X63QO1tAdIgF"
      }
    },
    {
      "cell_type": "markdown",
      "source": [
        "Print the $R^2$ of this model"
      ],
      "metadata": {
        "id": "X8K0ZhrMdLcG"
      }
    },
    {
      "cell_type": "code",
      "source": [
        "print(\"R-squared: {:.3f}\".format(model.rsquared))"
      ],
      "metadata": {
        "colab": {
          "base_uri": "https://localhost:8080/"
        },
        "id": "9Qc4BC8BVdy9",
        "outputId": "d9c6237e-b41c-47ef-d11d-017a49a3d4e1"
      },
      "execution_count": 27,
      "outputs": [
        {
          "output_type": "stream",
          "name": "stdout",
          "text": [
            "R-squared: 1.000\n"
          ]
        }
      ]
    },
    {
      "cell_type": "markdown",
      "source": [
        "Looking only at the $R^2$ scores for this model relative to the previous model in Task 1, would you say the model has improved with the addition of the remaining features or not? and Why?"
      ],
      "metadata": {
        "id": "7P5iogz_dSfD"
      }
    },
    {
      "cell_type": "markdown",
      "source": [
        "The task with the remaining features has clearly improved significantly because the R-squared values are pretty similar (the first task's R^2 was 0.539 and the current one is 0.579).\n"
      ],
      "metadata": {
        "id": "sMUCOhQOdXaE"
      }
    },
    {
      "cell_type": "markdown",
      "source": [
        "Print the Adjusted-$R^2$ of this model"
      ],
      "metadata": {
        "id": "zMWT8U7mdY0p"
      }
    },
    {
      "cell_type": "markdown",
      "source": [
        "Looking at both $R^2$ and Ajusted-$R^2$ scores for this model relative to the previous model in Task 1, would you say the model has improved with the addition of the remaining features or not? and Why?"
      ],
      "metadata": {
        "id": "xCpFXai6dkpL"
      }
    },
    {
      "cell_type": "markdown",
      "source": [],
      "metadata": {
        "id": "4BO8fq6odqrA"
      }
    },
    {
      "cell_type": "markdown",
      "source": [
        "Plot the actual vs. model predicted values for the house price/unit area for all objects in the data. Is there any visible improvement in the quality of the prediction that you can claim from comparing this plot with the one from Task 2?"
      ],
      "metadata": {
        "id": "mgIAi9C9duLy"
      }
    },
    {
      "cell_type": "code",
      "source": [],
      "metadata": {
        "id": "yROgV9i-Vd-W"
      },
      "execution_count": null,
      "outputs": []
    }
  ]
}